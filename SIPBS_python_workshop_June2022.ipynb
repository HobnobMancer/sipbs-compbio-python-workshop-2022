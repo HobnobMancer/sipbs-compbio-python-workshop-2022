{
 "cells": [
  {
   "cell_type": "markdown",
   "id": "4af8d2f6",
   "metadata": {},
   "source": [
    "# SIPBS Python Workshop: June 2022\n",
    "\n",
    "Use this notebook to take notes, practise code, and refer back to in the future.\n",
    "\n",
    "Some notes and code have already been added to assist you during the workshop. Some code is incomplete and will be completed during the workshop, although feel free to give it a go in advance.\n",
    "\n",
    "## Learning Outcomes\n",
    "- Define each of the data types in Python and give examples of when they may be used\n",
    "- Assign data to variables\n",
    "- Perform basic maths operations using Python\n",
    "- Use logical and conditional operations to compare data\n",
    "- Design simple functions\n",
    "- Load and parse CSV files using `pandas`\n",
    "- Use a `numpy` array to ..\n",
    "- Use the `math` module to perform statistical analysis on a dataset\n",
    "\n",
    "## Table of Contents\n",
    "1. [Introduction](#intro)\n",
    "2. [Variables, Types and Operations](#var_type_op)\n",
    "3. [Function Calls](#function_calls)\n",
    "4. [Variables](#variables)\n",
    "5. [Data Types](#type)\n",
    "6. [Basic maths](#basic_maths)\n",
    "7. [Logical_operations](#logical_operations)\n",
    "8. [Conditional statements](#conditional_operations)\n",
    "9. [Data Handling Using `pandas`](#pandas)\n",
    "10. [Reading data into a `pandas` dataframe](#pandas_read)\n",
    "11. [Accessing data in a dataframe](#pandas_access)\n",
    "12. [Exploring data in a dataframe](#pandas_explore)\n",
    "13. [For loops and iterating throuhg columns](#for_loops)\n",
    "14. [Selecting a subset based on a template](#subset)\n",
    "15. [Visualisation of data using `pandas`](#pandas_vis)\n",
    "16. [Generating plots using `Matplotlib`](#matplot)\n",
    "\n",
    "## Introduction\n",
    "<a id=\"intro\"></a>\n",
    "\n",
    "Bioinformatics is concerned with the development of software solutions for processing and interrogating biological data to extract meaningful insights. Python is a general-purpose programming language; it can be used to design software to perform a variety of tasks from statistical analysis and automation, to robotics. Python is also widely used because it is a high-level language. Its syntax (the code we write) is closer to the language that we speak and is easily understood by humans. This also makes it a relatively easier language to learn and implement in our work."
   ]
  },
  {
   "cell_type": "markdown",
   "id": "6c2df60e",
   "metadata": {},
   "source": [
    "## Imports\n",
    "<a id=\"imports\"></a>\n",
    "\n",
    "Run this cell to load in all required Python libraries."
   ]
  },
  {
   "cell_type": "code",
   "execution_count": 88,
   "id": "009e28c3",
   "metadata": {},
   "outputs": [],
   "source": [
    "import math\n",
    "import pandas as pd\n",
    "\n",
    "from IPython.display import Image\n",
    "from matplotlib.pyplot import subplots\n",
    "from numpy.random import randint\n",
    "from sklearn import datasets\n"
   ]
  },
  {
   "cell_type": "markdown",
   "id": "effe3fb7",
   "metadata": {},
   "source": [
    "## Variables, Types and Operations\n",
    "<a id=\"var_type_op\"></a>\n",
    "\n",
    "Programs process data and produce outputs, during which data is held in the computer memory so the computer can apply our process to the data.\n",
    "\n",
    "### The `print` function\n",
    "\n",
    "The `print()` function cant take several inputs and perform a variety of tasks. Its primary function (and the one it is most used for) is to take input values and display then in the terminal."
   ]
  },
  {
   "cell_type": "code",
   "execution_count": 2,
   "id": "e73d7028",
   "metadata": {},
   "outputs": [
    {
     "name": "stdout",
     "output_type": "stream",
     "text": [
      "Hello World!\n"
     ]
    }
   ],
   "source": [
    "print('Hello World!')"
   ]
  },
  {
   "cell_type": "markdown",
   "id": "72f206b8",
   "metadata": {},
   "source": [
    "The `print()` function is extremely useful for tracking the data while it is being processed. For example, we can print to terminal when we have reached a check point in our analysis. The `print()` statement is also extremely useful for troubleshooting. If you code is crashing when it hits line 50, print to the terminal what the data looks like at line 49. It is possible the data does not have the structure you thought it did and you need to adjust some previous code for the analysis to run."
   ]
  },
  {
   "cell_type": "markdown",
   "id": "fbb29d57",
   "metadata": {},
   "source": [
    "## Function calls\n",
    "<a id=\"function_calls\"></a>\n",
    "Values we pass to a function that do not require a name are called *positional arguments*. In the `print()` example above, `'Hello World!'` is a positional argument because it was not assigned a name. Some values may be assigned a name, called a *keyword argument*. In the example below, the string `' '` is assigned to the keyword `sep`."
   ]
  },
  {
   "cell_type": "code",
   "execution_count": 3,
   "id": "8df74c28",
   "metadata": {},
   "outputs": [
    {
     "name": "stdout",
     "output_type": "stream",
     "text": [
      "Hello World! How are you?\n"
     ]
    }
   ],
   "source": [
    "print('Hello World!', 'How are you?', sep=' ')"
   ]
  },
  {
   "cell_type": "markdown",
   "id": "b94519e9",
   "metadata": {},
   "source": [
    "If you want some practise, try printing the following phrase 'Protein Kinase C (alpha subsunit)'. Try using the `sep` keyworkd."
   ]
  },
  {
   "cell_type": "markdown",
   "id": "eafc7633",
   "metadata": {},
   "source": [
    "## Variables\n",
    "<a id=\"variables\"></a>\n",
    "\n",
    "Variables are used to store data in the memory. You can imagine them like a little pot with a label on the front with its name. Variables have a *scope*, *name*, and *type*.\n",
    "\n",
    "### Nameing variables\n",
    "\n",
    "A varaibles name is the alias (or postal address) of the location where the  data is stored in the memory. If a variable name is reassigned, the new data overwrites the old. Try it out in the cell below. Use the `print()` function to find out what the value of variable `a` is."
   ]
  },
  {
   "cell_type": "code",
   "execution_count": 4,
   "id": "4f669e78",
   "metadata": {},
   "outputs": [],
   "source": [
    "a = 1\n",
    "a = 2"
   ]
  },
  {
   "cell_type": "markdown",
   "id": "9d3c4fdc",
   "metadata": {},
   "source": [
    "**Varaible naming conventions:**\n",
    "    - Cannot start with a number\n",
    "    - Cannot overwrite a keyword already used in Python. For example, you cannot name a function `print`\n",
    "    - Should be meaningful. `list_of_students` is more meaningful than `a`\n",
    "\n",
    "To avoid writing extremely long variable names to accuracetly describe the data assigned to the variable, we use comments to explain what is going on. Comments are sections of code not read by the computer and are used to improve the readability of the code. The front of a comment is defined with a hastag (`#`). For example:"
   ]
  },
  {
   "cell_type": "code",
   "execution_count": 5,
   "id": "31b94d03",
   "metadata": {},
   "outputs": [],
   "source": [
    "five_mins2sec = 5 * 60 # 5 min ⁎ 60 sec"
   ]
  },
  {
   "cell_type": "markdown",
   "id": "e0c86f25",
   "metadata": {},
   "source": [
    "## Data Types\n",
    "<a id=\"type\"></a>\n",
    "We use the `type()` function to see the data type of a variable."
   ]
  },
  {
   "cell_type": "code",
   "execution_count": 6,
   "id": "8e01b688",
   "metadata": {},
   "outputs": [
    {
     "data": {
      "text/plain": [
       "str"
      ]
     },
     "execution_count": 6,
     "metadata": {},
     "output_type": "execute_result"
    }
   ],
   "source": [
    "type('I am a string')"
   ]
  },
  {
   "cell_type": "code",
   "execution_count": 7,
   "id": "3c859e9b",
   "metadata": {},
   "outputs": [
    {
     "data": {
      "text/plain": [
       "int"
      ]
     },
     "execution_count": 7,
     "metadata": {},
     "output_type": "execute_result"
    }
   ],
   "source": [
    "type(1)"
   ]
  },
  {
   "cell_type": "code",
   "execution_count": 8,
   "id": "c55fd82e",
   "metadata": {},
   "outputs": [
    {
     "data": {
      "text/plain": [
       "float"
      ]
     },
     "execution_count": 8,
     "metadata": {},
     "output_type": "execute_result"
    }
   ],
   "source": [
    "type(0.5)"
   ]
  },
  {
   "cell_type": "code",
   "execution_count": 9,
   "id": "dcd6c490",
   "metadata": {},
   "outputs": [
    {
     "name": "stdout",
     "output_type": "stream",
     "text": [
      "<class 'str'>\n"
     ]
    }
   ],
   "source": [
    "print(type('I am a string'))"
   ]
  },
  {
   "cell_type": "markdown",
   "id": "37da448e",
   "metadata": {},
   "source": [
    "Data types are important to consider while coding, because some operations can only be performed on specific data types."
   ]
  },
  {
   "cell_type": "code",
   "execution_count": 10,
   "id": "dac9a181",
   "metadata": {},
   "outputs": [
    {
     "data": {
      "image/png": "[encoded data removed]",
      "text/plain": [
       "<IPython.core.display.Image object>"
      ]
     },
     "execution_count": 10,
     "metadata": {},
     "output_type": "execute_result"
    }
   ],
   "source": [
    "Image(filename='datatypes.png')"
   ]
  },
  {
   "cell_type": "markdown",
   "id": "cc708479",
   "metadata": {},
   "source": [
    "We can convert the data type of a variable. Explore the code in the block below (feel free to add additional code blocks to explore the code further, and you may find the `print()` function helpful too), to see how data types can be converted. Are all types of data interchangeable? Can you convert a number to a string? What happens when you convert a `bool` to an `int` (interger), `str` (string) or `float`?"
   ]
  },
  {
   "cell_type": "code",
   "execution_count": 11,
   "id": "7d9c017d",
   "metadata": {},
   "outputs": [],
   "source": [
    "a = 'I am a string'\n",
    "b = 10\n",
    "c = 50.55"
   ]
  },
  {
   "cell_type": "code",
   "execution_count": 12,
   "id": "5cef5e2b",
   "metadata": {},
   "outputs": [],
   "source": [
    "# convert a to an int, a float and a bool. What happens?"
   ]
  },
  {
   "cell_type": "code",
   "execution_count": 13,
   "id": "18059925",
   "metadata": {},
   "outputs": [],
   "source": [
    "# convert b to an int, a float and a bool. What happens?"
   ]
  },
  {
   "cell_type": "code",
   "execution_count": 14,
   "id": "ff4b8fc7",
   "metadata": {},
   "outputs": [],
   "source": [
    "# convert c to an int, a float and a bool. What happens?"
   ]
  },
  {
   "cell_type": "markdown",
   "id": "543d8433",
   "metadata": {},
   "source": [
    "## Basic maths\n",
    "<a id=\"basic_maths\"></a>\n",
    "\n",
    "Basic maths opertions are performed using a similar syntax to what is used in MS Excel."
   ]
  },
  {
   "cell_type": "code",
   "execution_count": 15,
   "id": "57bd5f7e",
   "metadata": {},
   "outputs": [],
   "source": [
    "a = 10\n",
    "b = 2"
   ]
  },
  {
   "cell_type": "code",
   "execution_count": 16,
   "id": "92d10997",
   "metadata": {},
   "outputs": [
    {
     "data": {
      "text/plain": [
       "12"
      ]
     },
     "execution_count": 16,
     "metadata": {},
     "output_type": "execute_result"
    }
   ],
   "source": [
    "a + b"
   ]
  },
  {
   "cell_type": "code",
   "execution_count": 17,
   "id": "ec4d3186",
   "metadata": {},
   "outputs": [
    {
     "data": {
      "text/plain": [
       "8"
      ]
     },
     "execution_count": 17,
     "metadata": {},
     "output_type": "execute_result"
    }
   ],
   "source": [
    "a - b"
   ]
  },
  {
   "cell_type": "code",
   "execution_count": 18,
   "id": "cbb43940",
   "metadata": {},
   "outputs": [
    {
     "data": {
      "text/plain": [
       "20"
      ]
     },
     "execution_count": 18,
     "metadata": {},
     "output_type": "execute_result"
    }
   ],
   "source": [
    "a * b"
   ]
  },
  {
   "cell_type": "code",
   "execution_count": 19,
   "id": "7e42fe30",
   "metadata": {},
   "outputs": [
    {
     "data": {
      "text/plain": [
       "5.0"
      ]
     },
     "execution_count": 19,
     "metadata": {},
     "output_type": "execute_result"
    }
   ],
   "source": [
    "a / b"
   ]
  },
  {
   "cell_type": "markdown",
   "id": "ede7e738",
   "metadata": {},
   "source": [
    "How would you edit the cell above so that `a / b` produces an interger not a decimal point? Check your answer below."
   ]
  },
  {
   "cell_type": "code",
   "execution_count": null,
   "id": "c92935cf",
   "metadata": {},
   "outputs": [],
   "source": []
  },
  {
   "cell_type": "markdown",
   "id": "70fe5b00",
   "metadata": {},
   "source": [
    "The built in `round()` function can be used to apply our standard rules for rounding numbers."
   ]
  },
  {
   "cell_type": "code",
   "execution_count": 20,
   "id": "b8a36984",
   "metadata": {},
   "outputs": [
    {
     "data": {
      "text/plain": [
       "33"
      ]
     },
     "execution_count": 20,
     "metadata": {},
     "output_type": "execute_result"
    }
   ],
   "source": [
    "round(100/3)"
   ]
  },
  {
   "cell_type": "code",
   "execution_count": 21,
   "id": "1cba285a",
   "metadata": {},
   "outputs": [
    {
     "data": {
      "text/plain": [
       "76"
      ]
     },
     "execution_count": 21,
     "metadata": {},
     "output_type": "execute_result"
    }
   ],
   "source": [
    "round(75.891)"
   ]
  },
  {
   "cell_type": "markdown",
   "id": "844d562b",
   "metadata": {},
   "source": [
    "The `round()` function takes two positional arguments:\n",
    "1. The number you want to round\n",
    "2. The number of digits to round to. Default = 0"
   ]
  },
  {
   "cell_type": "code",
   "execution_count": 22,
   "id": "4833bdf0",
   "metadata": {},
   "outputs": [
    {
     "name": "stdout",
     "output_type": "stream",
     "text": [
      "33\n",
      "33.3\n",
      "33.33\n"
     ]
    }
   ],
   "source": [
    "print(round(100/3))\n",
    "print(round(100/3, 1))\n",
    "print(round(100/3, 2))"
   ]
  },
  {
   "cell_type": "markdown",
   "id": "94c25cf4",
   "metadata": {},
   "source": [
    "If you always want to round up, or round down we use the `math.float()` and `math.ceil()` functions.\n",
    "\n",
    "The `math.ceil()` function returns the ceiling of its argument, which is the nearest integer greater than or equal to that argument’s value.\n",
    "\n",
    "The `math.floor()` function returns the floor value of its argument, which is the nearest integer less than or equal to that argument’s value"
   ]
  },
  {
   "cell_type": "code",
   "execution_count": 23,
   "id": "1a80e851",
   "metadata": {},
   "outputs": [
    {
     "name": "stdout",
     "output_type": "stream",
     "text": [
      "33\n",
      "34\n",
      "33\n"
     ]
    }
   ],
   "source": [
    "print(round(100/3))\n",
    "print(math.ceil(100/3))\n",
    "print(math.floor(100/3))"
   ]
  },
  {
   "cell_type": "markdown",
   "id": "23bbddcf",
   "metadata": {},
   "source": [
    "Alternatively to using `math.floor()` we can use the Python floor quotient:"
   ]
  },
  {
   "cell_type": "code",
   "execution_count": 24,
   "id": "a0ffd69c",
   "metadata": {},
   "outputs": [
    {
     "name": "stdout",
     "output_type": "stream",
     "text": [
      "33\n",
      "33\n"
     ]
    }
   ],
   "source": [
    "print(math.floor(100/3))\n",
    "print(100 // 3)"
   ]
  },
  {
   "cell_type": "markdown",
   "id": "8362602b",
   "metadata": {},
   "source": [
    "If we want the remainder after a division we use `%`"
   ]
  },
  {
   "cell_type": "code",
   "execution_count": 25,
   "id": "54f92f42",
   "metadata": {},
   "outputs": [
    {
     "name": "stdout",
     "output_type": "stream",
     "text": [
      "33.333333333333336\n",
      "1\n"
     ]
    }
   ],
   "source": [
    "print(100 / 3)\n",
    "print(100 % 3)"
   ]
  },
  {
   "cell_type": "markdown",
   "id": "605d7391",
   "metadata": {},
   "source": [
    "Powers are performend using `**`"
   ]
  },
  {
   "cell_type": "code",
   "execution_count": 26,
   "id": "45b5bd23",
   "metadata": {},
   "outputs": [
    {
     "data": {
      "text/plain": [
       "100"
      ]
     },
     "execution_count": 26,
     "metadata": {},
     "output_type": "execute_result"
    }
   ],
   "source": [
    "a ** b"
   ]
  },
  {
   "cell_type": "code",
   "execution_count": 27,
   "id": "5fbb5d80",
   "metadata": {},
   "outputs": [
    {
     "data": {
      "text/plain": [
       "9"
      ]
     },
     "execution_count": 27,
     "metadata": {},
     "output_type": "execute_result"
    }
   ],
   "source": [
    "3 ** 2 "
   ]
  },
  {
   "cell_type": "markdown",
   "id": "eab80e0a",
   "metadata": {},
   "source": [
    "## Logical Operations\n",
    "<a id=\"logical_operations\"></a>\n",
    "\n",
    "This section lines up with lesson 7 in `software carpentry` [Making Choices](https://swcarpentry.github.io/python-novice-inflammation/07-cond/index.html).\n",
    "\n",
    "An operation may involve a comparison. The result of such operations is either `True` or `False`. This is known as the *Boolean* or `bool` data type. Computers store `True` and `False` as 1 and 0, respectively.\n",
    "\n",
    "Opertions involving Boolean results are called logical operations.\n",
    "\n",
    "Boolean operations in Python are defined as follows:"
   ]
  },
  {
   "cell_type": "code",
   "execution_count": 28,
   "id": "c3a7410a",
   "metadata": {},
   "outputs": [
    {
     "data": {
      "text/plain": [
       "True"
      ]
     },
     "execution_count": 28,
     "metadata": {},
     "output_type": "execute_result"
    }
   ],
   "source": [
    "# Equivalents\n",
    "a = 10\n",
    "b = 10\n",
    "a == b"
   ]
  },
  {
   "cell_type": "code",
   "execution_count": 29,
   "id": "706f105b",
   "metadata": {},
   "outputs": [
    {
     "data": {
      "text/plain": [
       "False"
      ]
     },
     "execution_count": 29,
     "metadata": {},
     "output_type": "execute_result"
    }
   ],
   "source": [
    "# Equivalents\n",
    "a = 10\n",
    "b = 20\n",
    "a == b"
   ]
  },
  {
   "cell_type": "code",
   "execution_count": 30,
   "id": "72c1cf07",
   "metadata": {},
   "outputs": [
    {
     "data": {
      "text/plain": [
       "True"
      ]
     },
     "execution_count": 30,
     "metadata": {},
     "output_type": "execute_result"
    }
   ],
   "source": [
    "# Are not equivalents\n",
    "a = 10\n",
    "b = 20\n",
    "a != b"
   ]
  },
  {
   "cell_type": "code",
   "execution_count": 31,
   "id": "d525a166",
   "metadata": {},
   "outputs": [
    {
     "data": {
      "text/plain": [
       "False"
      ]
     },
     "execution_count": 31,
     "metadata": {},
     "output_type": "execute_result"
    }
   ],
   "source": [
    "# Greater than\n",
    "a = 10\n",
    "b = 20\n",
    "a > b"
   ]
  },
  {
   "cell_type": "code",
   "execution_count": 32,
   "id": "4d294750",
   "metadata": {},
   "outputs": [
    {
     "data": {
      "text/plain": [
       "False"
      ]
     },
     "execution_count": 32,
     "metadata": {},
     "output_type": "execute_result"
    }
   ],
   "source": [
    "# Either greater or equal \n",
    "a >= b"
   ]
  },
  {
   "cell_type": "code",
   "execution_count": 33,
   "id": "d9313deb",
   "metadata": {},
   "outputs": [
    {
     "data": {
      "text/plain": [
       "True"
      ]
     },
     "execution_count": 33,
     "metadata": {},
     "output_type": "execute_result"
    }
   ],
   "source": [
    "# Less than\n",
    "# Greater than\n",
    "a = 10\n",
    "b = 450\n",
    "a < b"
   ]
  },
  {
   "cell_type": "code",
   "execution_count": 34,
   "id": "50d48d83",
   "metadata": {},
   "outputs": [
    {
     "data": {
      "text/plain": [
       "True"
      ]
     },
     "execution_count": 34,
     "metadata": {},
     "output_type": "execute_result"
    }
   ],
   "source": [
    "# Less than or equal \n",
    "a <= b"
   ]
  },
  {
   "cell_type": "code",
   "execution_count": 35,
   "id": "9dcc030b",
   "metadata": {},
   "outputs": [
    {
     "data": {
      "text/plain": [
       "True"
      ]
     },
     "execution_count": 35,
     "metadata": {},
     "output_type": "execute_result"
    }
   ],
   "source": [
    "# Between\n",
    "5 < a < 20"
   ]
  },
  {
   "cell_type": "markdown",
   "id": "4f59e100",
   "metadata": {},
   "source": [
    "To test if a statement (e.g. `5 > 3`) is not try, we add the `not` keyword before the statement."
   ]
  },
  {
   "cell_type": "code",
   "execution_count": 36,
   "id": "99376d39",
   "metadata": {},
   "outputs": [
    {
     "data": {
      "text/plain": [
       "False"
      ]
     },
     "execution_count": 36,
     "metadata": {},
     "output_type": "execute_result"
    }
   ],
   "source": [
    "not 5 > 3"
   ]
  },
  {
   "cell_type": "markdown",
   "id": "fec921d8",
   "metadata": {},
   "source": [
    "Try it yourself: Without using `not`, determine if `y_1` is *not equal* to `y_2`. Display the result of your tests and store it in the variable `inequivalent`."
   ]
  },
  {
   "cell_type": "code",
   "execution_count": 37,
   "id": "63782a98",
   "metadata": {},
   "outputs": [],
   "source": [
    "y_1 = 10\n",
    "y_2 = 20"
   ]
  },
  {
   "cell_type": "markdown",
   "id": "793adb5b",
   "metadata": {},
   "source": [
    "### Combining logical operations\n",
    "\n",
    "Logical operations can be combined using the conjunction `and` and disjunction `or` to create more complex logics:"
   ]
  },
  {
   "cell_type": "code",
   "execution_count": 38,
   "id": "6b2cf000",
   "metadata": {},
   "outputs": [
    {
     "name": "stdout",
     "output_type": "stream",
     "text": [
      "True\n"
     ]
    }
   ],
   "source": [
    "c = 50\n",
    "d = 60\n",
    "\n",
    "# Either smaller or equal \n",
    "small_equ_test = c < d or c == d\n",
    "print(small_equ_test)"
   ]
  },
  {
   "cell_type": "markdown",
   "id": "43a50137",
   "metadata": {},
   "source": [
    "Try it yourself. Set if `c` is greater than or equal to `d`"
   ]
  },
  {
   "cell_type": "code",
   "execution_count": null,
   "id": "278dd6c0",
   "metadata": {},
   "outputs": [],
   "source": []
  },
  {
   "cell_type": "code",
   "execution_count": 39,
   "id": "ab04a744",
   "metadata": {},
   "outputs": [
    {
     "data": {
      "text/plain": [
       "False"
      ]
     },
     "execution_count": 39,
     "metadata": {},
     "output_type": "execute_result"
    }
   ],
   "source": [
    "## Greater but not greater than \n",
    "c > d and not c > 55"
   ]
  },
  {
   "cell_type": "code",
   "execution_count": 40,
   "id": "bc9f5cdd",
   "metadata": {},
   "outputs": [
    {
     "data": {
      "text/plain": [
       "True"
      ]
     },
     "execution_count": 40,
     "metadata": {},
     "output_type": "execute_result"
    }
   ],
   "source": [
    "# Either equal or not between\n",
    "c == d or not d < c < 100"
   ]
  },
  {
   "cell_type": "markdown",
   "id": "1767e47a",
   "metadata": {},
   "source": [
    "Write the code to test if `c` is equal to `d` and `c` is between `30` and `70`"
   ]
  },
  {
   "cell_type": "code",
   "execution_count": null,
   "id": "3bca0d9c",
   "metadata": {},
   "outputs": [],
   "source": []
  },
  {
   "cell_type": "markdown",
   "id": "af26732f",
   "metadata": {},
   "source": [
    "Sometimes, it may help to breakdown complex operations across multiple lines, or use parenthesis to make them easier to read and write."
   ]
  },
  {
   "cell_type": "code",
   "execution_count": 41,
   "id": "7be8d408",
   "metadata": {},
   "outputs": [
    {
     "data": {
      "text/plain": [
       "True"
      ]
     },
     "execution_count": 41,
     "metadata": {},
     "output_type": "execute_result"
    }
   ],
   "source": [
    "a = 40\n",
    "b = 30\n",
    "a == b or (5 <= a or b < 20 and a < b)"
   ]
  },
  {
   "cell_type": "code",
   "execution_count": 42,
   "id": "59f17dd4",
   "metadata": {},
   "outputs": [
    {
     "data": {
      "text/plain": [
       "False"
      ]
     },
     "execution_count": 42,
     "metadata": {},
     "output_type": "execute_result"
    }
   ],
   "source": [
    "a == b or (5 <= a or b < 20) and a < b "
   ]
  },
  {
   "cell_type": "code",
   "execution_count": 43,
   "id": "08959f35",
   "metadata": {},
   "outputs": [
    {
     "data": {
      "text/plain": [
       "True"
      ]
     },
     "execution_count": 43,
     "metadata": {},
     "output_type": "execute_result"
    }
   ],
   "source": [
    "a == b or 5 <= a or (b < 20 and a < b) "
   ]
  },
  {
   "cell_type": "markdown",
   "id": "0403b404",
   "metadata": {},
   "source": [
    "All notations are essentially the same and only vary in terms\n",
    "of their collective results as defined using parenthesis. Always remember that in a logical\n",
    "statement:\n",
    "- The statement in the parenthesis do not have precedent over the rest of the state, they merely define an independent part of the operation whose result should be evaluated separately\n",
    "- The precedence is estabilished in order from left to right\n",
    "- In disjunctive statements (e.g. `a < 5 or b > 5`), if the first part is true (e.g. `a < 5`) is correct the second part (e.g. `b > 5`) is *not* checked\n",
    "- In conjunction statements (e.g. `a < 5 and b > 5`), the second statement is only processed if the first part is `True`"
   ]
  },
  {
   "cell_type": "markdown",
   "id": "bd47a892",
   "metadata": {},
   "source": [
    "## Conditional Statements\n",
    "<a id=\"conditional_operations\"></a>\n",
    "\n",
    "To implement conditional statements we use three syntaxes:\n",
    "1. `if`\n",
    "2. `elif`\n",
    "3. `else`\n",
    "\n",
    "**All conditional statements start with `if`.** We intiate the statemetn using `if`, followed by the condition, and ending with a colon. Below our condition we write what operation we wish to perform if the condition is met (don't forget to indend the code underneath our condition, do this using the tab key or 4 spaces)."
   ]
  },
  {
   "cell_type": "code",
   "execution_count": 44,
   "id": "a7b50bb9",
   "metadata": {},
   "outputs": [
    {
     "name": "stdout",
     "output_type": "stream",
     "text": [
      "More than 10 students are present.\n"
     ]
    }
   ],
   "source": [
    "students_present = 15\n",
    "\n",
    "# Conditional statement:\n",
    "if students_present > 10: # Initiation\n",
    "    # Directive (must be indented).\n",
    "    print('More than 10 students are present.')"
   ]
  },
  {
   "cell_type": "markdown",
   "id": "1af81d15",
   "metadata": {},
   "source": [
    "Sometimes we want to check for multiple alternative conditions. To this we add each alternative condition as an `elif` condition after our initial `if` statement. We can implement as many `elif` statements as we like.\n",
    "\n",
    "*`elif` is short for 'else if'. For example, `if` condition 1 `else if` condition 2*."
   ]
  },
  {
   "cell_type": "code",
   "execution_count": 45,
   "id": "19bd0d4f",
   "metadata": {},
   "outputs": [
    {
     "name": "stdout",
     "output_type": "stream",
     "text": [
      "There cannot be a negative number of students. Revise the input.\n"
     ]
    }
   ],
   "source": [
    "students_present = -2\n",
    "\n",
    "if students_present > 10:  # initiate our condition testing\n",
    "    print('More than 10 students are present.')\n",
    "\n",
    "elif 0 < students_present < 10:  # first alternative condition\n",
    "    print('Less than 10 students are present.')\n",
    "\n",
    "elif students_present < 0:  # second alternative condition\n",
    "    print('There cannot be a negative number of students. Revise the input.')"
   ]
  },
  {
   "cell_type": "markdown",
   "id": "c00e1fc1",
   "metadata": {},
   "source": [
    "To add a catchall for when none of our provided conditions are true, we add an `else` statement: `if` condition 1, else if `elif` condition 2, `else` perform operation."
   ]
  },
  {
   "cell_type": "code",
   "execution_count": 46,
   "id": "a8d79347",
   "metadata": {},
   "outputs": [
    {
     "name": "stdout",
     "output_type": "stream",
     "text": [
      "There is no one!\n"
     ]
    }
   ],
   "source": [
    "students_present = 0\n",
    "\n",
    "if students_present > 10:  # initiate our condition testing\n",
    "    print('More than 10 students are present.')\n",
    "\n",
    "elif 0 < students_present < 10:  # first alternative condition\n",
    "    print('Less than 10 students are present.')\n",
    "\n",
    "elif students_present < 0:  # second alternative condition\n",
    "    print('There cannot be a negative number of students. Revise the input.')\n",
    "    \n",
    "else:  # if none of the above are true\n",
    "    print('There is no one!')\n"
   ]
  },
  {
   "cell_type": "markdown",
   "id": "88a80355",
   "metadata": {},
   "source": [
    "### Exercises\n",
    "\n",
    "Complete the following exercises. [Here](https://swcarpentry.github.io/python-novice-inflammation/07-cond/index.html#how-many-paths) is the original software carpentry lesson page with the exercises, hints and solutions."
   ]
  },
  {
   "cell_type": "markdown",
   "id": "d5ca0486",
   "metadata": {},
   "source": [
    "**How Many Paths**\n",
    "\n",
    "Consider this code\n",
    "\n",
    "```\n",
    "if 4 > 5:\n",
    "    print('A')\n",
    "elif 4 == 5:\n",
    "    print('B')\n",
    "elif 4 < 5:\n",
    "    print('C')\n",
    "```\n",
    "\n",
    "Which of the following would be printed if you were to run this code? Why did you pick this answer?\n",
    "1. A\n",
    "2. B\n",
    "3. C\n",
    "4. B and C"
   ]
  },
  {
   "cell_type": "markdown",
   "id": "690ad696",
   "metadata": {},
   "source": [
    "**What is Truth?**  \n",
    "`True` and `False` booleans are not the only values in Python that are true and false. Any value can be used in an `if` or `elif`. After reading and running the code below, explain what the rule is for which values are considered true and which are considered false."
   ]
  },
  {
   "cell_type": "code",
   "execution_count": 47,
   "id": "9811b528",
   "metadata": {},
   "outputs": [
    {
     "name": "stdout",
     "output_type": "stream",
     "text": [
      "word is true\n",
      "non-empty list is true\n",
      "one is true\n"
     ]
    }
   ],
   "source": [
    "if '':\n",
    "    print('empty string is true')\n",
    "if 'word':\n",
    "    print('word is true')\n",
    "if []:\n",
    "    print('empty list is true')\n",
    "if [1, 2, 3]:\n",
    "    print('non-empty list is true')\n",
    "if 0:\n",
    "    print('zero is true')\n",
    "if 1:\n",
    "    print('one is true')"
   ]
  },
  {
   "cell_type": "markdown",
   "id": "40366ea1",
   "metadata": {},
   "source": [
    "**That's Not Not What I Meant**   \n",
    "Sometimes it is useful to check whether some condition is not true. The Boolean operator `not` can do this explicitly. After reading and running the code below, write some `if` statements that use `not` to test the rule that you formulated in the previous challenge."
   ]
  },
  {
   "cell_type": "code",
   "execution_count": 48,
   "id": "63e5da16",
   "metadata": {},
   "outputs": [
    {
     "name": "stdout",
     "output_type": "stream",
     "text": [
      "empty string is not true\n",
      "not not True is true\n"
     ]
    }
   ],
   "source": [
    "if not '':\n",
    "    print('empty string is not true')\n",
    "if not 'word':\n",
    "    print('word is not true')\n",
    "if not not True:\n",
    "    print('not not True is true')"
   ]
  },
  {
   "cell_type": "markdown",
   "id": "00fb06f7",
   "metadata": {},
   "source": [
    "**Close Enough**  \n",
    "Write some conditions that print `True` if the variable `a` is within 10% of the variable `b` and False otherwise. Compare your implementation with your partner’s: do you get the same answer for all possible pairs of numbers?\n",
    "\n",
    "[Hint](https://swcarpentry.github.io/python-novice-inflammation/07-cond/index.html#hint)  \n",
    "[Solution 1](https://swcarpentry.github.io/python-novice-inflammation/07-cond/index.html#solution-1)  \n",
    "[Solution 2](https://swcarpentry.github.io/python-novice-inflammation/07-cond/index.html#solution-2)  "
   ]
  },
  {
   "cell_type": "markdown",
   "id": "f828e451",
   "metadata": {},
   "source": [
    "**In-Place Operators**  \n",
    "Python (and most other languages in the C family) provides [in-place operators](https://swcarpentry.github.io/python-novice-inflammation/reference.html#in-place-operators) that work like this:  \n",
    "\n",
    "```\n",
    "x = 1  # original value\n",
    "x += 1 # add one to x, assigning result back to x\n",
    "x *= 3 # multiply x by 3\n",
    "print(x)\n",
    "\n",
    ">>> 6\n",
    "```\n",
    "\n",
    "Write some code that sums the positive and negative numbers in a list separately, using in-place operators. Do you think the result is more or less readable than writing the same without in-place operators?\n",
    "\n",
    "[Solution](https://swcarpentry.github.io/python-novice-inflammation/07-cond/index.html#solution-1)"
   ]
  },
  {
   "cell_type": "markdown",
   "id": "f6b99d58",
   "metadata": {},
   "source": [
    "## Data Handling Using `pandas`\n",
    "<a id=\"pandas\"></a>\n",
    "\n",
    "Aims:\n",
    "- Import data set as dataframe\n",
    "- Inspect data frame and access data\n",
    "- Produce an overview of data features\n",
    "- Create data plots using matplotlib\n",
    "\n",
    "## Reading data into a `pandas` dataframe\n",
    "<a id=\"pandas_read\"></a>\n",
    "\n",
    "The small practice data file for this section is called 'everleys_data.csv', which is stored in the `data` directory. It can be accessed using the relative path `data/everleys_data.csv`.\n",
    "\n",
    "The file 'everleys_data.csv' contains blood concentrations of calcium and sodium ions from 17 patients with Everley's syndrome. The data are taken from a [BMJ statistics tutorial](https://www.bmj.com/about-bmj/resources-readers/publications/statistics-square-one/7-t-tests). The data are stored as comma-separated values (csv), two values for each patient.\n",
    "\n",
    "The Python package `pandas` is widely used to process and explore data that is contained within a dataframe. `Matplotlib` is a Python package that is designed to work with `pandas` to produce plots.\n",
    "\n",
    "**Note:** `pandas` is often imported as `pd`.\n",
    "```\n",
    "import pandas as pd\n",
    "```\n",
    "This has been done in this notebook.\n",
    "\n",
    "To load in a CSV file we use the `read_csv` function from `pandas`. To tell the computer where we are calling the `read_csv` function from, we call `pandas` then the function of interest, as so:`"
   ]
  },
  {
   "cell_type": "code",
   "execution_count": 49,
   "id": "50e17786",
   "metadata": {},
   "outputs": [],
   "source": [
    "df = pd.read_csv(\"data/everleys_data.csv\") "
   ]
  },
  {
   "cell_type": "markdown",
   "id": "15c1e9af",
   "metadata": {},
   "source": [
    "This code uses the `read_csv` function from Pandas to read data from a data file. The location of the data file is specified within quotes by the relative path to the subfolder 'data' followed by the file name.\n",
    "\n",
    "After execution of the code, the data are contained in a variable called `df`. This is a structure referred to as a Pandas _DataFrame_. \n",
    "\n",
    "> A [__Pandas dataframe__](https://pandas.pydata.org/pandas-docs/stable/user_guide/dsintro.html#dataframe) is a 2-dimensional labeled data structure with columns of potentially different types. You can think of it as a spreadsheet. \n",
    "\n",
    "\n",
    "To see the contents we can simply call the variable `df`. *Note, if you are writing a Python script you would need to use the `print()` function*"
   ]
  },
  {
   "cell_type": "code",
   "execution_count": 50,
   "id": "aa6d7ce6",
   "metadata": {},
   "outputs": [
    {
     "data": {
      "text/html": [
       "<div>\n",
       "<style scoped>\n",
       "    .dataframe tbody tr th:only-of-type {\n",
       "        vertical-align: middle;\n",
       "    }\n",
       "\n",
       "    .dataframe tbody tr th {\n",
       "        vertical-align: top;\n",
       "    }\n",
       "\n",
       "    .dataframe thead th {\n",
       "        text-align: right;\n",
       "    }\n",
       "</style>\n",
       "<table border=\"1\" class=\"dataframe\">\n",
       "  <thead>\n",
       "    <tr style=\"text-align: right;\">\n",
       "      <th></th>\n",
       "      <th>calcium</th>\n",
       "      <th>sodium</th>\n",
       "    </tr>\n",
       "  </thead>\n",
       "  <tbody>\n",
       "    <tr>\n",
       "      <th>0</th>\n",
       "      <td>3.455582</td>\n",
       "      <td>112.690980</td>\n",
       "    </tr>\n",
       "    <tr>\n",
       "      <th>1</th>\n",
       "      <td>3.669026</td>\n",
       "      <td>125.663330</td>\n",
       "    </tr>\n",
       "    <tr>\n",
       "      <th>2</th>\n",
       "      <td>2.789910</td>\n",
       "      <td>105.821810</td>\n",
       "    </tr>\n",
       "    <tr>\n",
       "      <th>3</th>\n",
       "      <td>2.939900</td>\n",
       "      <td>98.172772</td>\n",
       "    </tr>\n",
       "    <tr>\n",
       "      <th>4</th>\n",
       "      <td>5.426060</td>\n",
       "      <td>97.931489</td>\n",
       "    </tr>\n",
       "    <tr>\n",
       "      <th>5</th>\n",
       "      <td>0.715811</td>\n",
       "      <td>120.858330</td>\n",
       "    </tr>\n",
       "    <tr>\n",
       "      <th>6</th>\n",
       "      <td>5.652390</td>\n",
       "      <td>112.871500</td>\n",
       "    </tr>\n",
       "    <tr>\n",
       "      <th>7</th>\n",
       "      <td>3.571320</td>\n",
       "      <td>112.647360</td>\n",
       "    </tr>\n",
       "    <tr>\n",
       "      <th>8</th>\n",
       "      <td>4.300067</td>\n",
       "      <td>132.031720</td>\n",
       "    </tr>\n",
       "    <tr>\n",
       "      <th>9</th>\n",
       "      <td>1.369419</td>\n",
       "      <td>118.499010</td>\n",
       "    </tr>\n",
       "    <tr>\n",
       "      <th>10</th>\n",
       "      <td>2.550962</td>\n",
       "      <td>117.373730</td>\n",
       "    </tr>\n",
       "    <tr>\n",
       "      <th>11</th>\n",
       "      <td>2.894129</td>\n",
       "      <td>134.052390</td>\n",
       "    </tr>\n",
       "    <tr>\n",
       "      <th>12</th>\n",
       "      <td>3.664987</td>\n",
       "      <td>105.346410</td>\n",
       "    </tr>\n",
       "    <tr>\n",
       "      <th>13</th>\n",
       "      <td>1.362779</td>\n",
       "      <td>123.359490</td>\n",
       "    </tr>\n",
       "    <tr>\n",
       "      <th>14</th>\n",
       "      <td>3.718798</td>\n",
       "      <td>125.021060</td>\n",
       "    </tr>\n",
       "    <tr>\n",
       "      <th>15</th>\n",
       "      <td>1.865868</td>\n",
       "      <td>112.075420</td>\n",
       "    </tr>\n",
       "    <tr>\n",
       "      <th>16</th>\n",
       "      <td>3.272809</td>\n",
       "      <td>117.588040</td>\n",
       "    </tr>\n",
       "    <tr>\n",
       "      <th>17</th>\n",
       "      <td>3.917591</td>\n",
       "      <td>101.009870</td>\n",
       "    </tr>\n",
       "  </tbody>\n",
       "</table>\n",
       "</div>"
      ],
      "text/plain": [
       "     calcium      sodium\n",
       "0   3.455582  112.690980\n",
       "1   3.669026  125.663330\n",
       "2   2.789910  105.821810\n",
       "3   2.939900   98.172772\n",
       "4   5.426060   97.931489\n",
       "5   0.715811  120.858330\n",
       "6   5.652390  112.871500\n",
       "7   3.571320  112.647360\n",
       "8   4.300067  132.031720\n",
       "9   1.369419  118.499010\n",
       "10  2.550962  117.373730\n",
       "11  2.894129  134.052390\n",
       "12  3.664987  105.346410\n",
       "13  1.362779  123.359490\n",
       "14  3.718798  125.021060\n",
       "15  1.865868  112.075420\n",
       "16  3.272809  117.588040\n",
       "17  3.917591  101.009870"
      ]
     },
     "execution_count": 50,
     "metadata": {},
     "output_type": "execute_result"
    }
   ],
   "source": [
    "df"
   ]
  },
  {
   "cell_type": "markdown",
   "id": "006a28b2",
   "metadata": {},
   "source": [
    "How do the results differ is you use `print()` to display the dataframe?"
   ]
  },
  {
   "cell_type": "code",
   "execution_count": null,
   "id": "b8762054",
   "metadata": {},
   "outputs": [],
   "source": []
  },
  {
   "cell_type": "markdown",
   "id": "6c5a8905",
   "metadata": {},
   "source": [
    "For large data sets, the function `head` is a convenient way to get a feel of the dataset."
   ]
  },
  {
   "cell_type": "code",
   "execution_count": 51,
   "id": "204cc5c0",
   "metadata": {},
   "outputs": [
    {
     "data": {
      "text/html": [
       "<div>\n",
       "<style scoped>\n",
       "    .dataframe tbody tr th:only-of-type {\n",
       "        vertical-align: middle;\n",
       "    }\n",
       "\n",
       "    .dataframe tbody tr th {\n",
       "        vertical-align: top;\n",
       "    }\n",
       "\n",
       "    .dataframe thead th {\n",
       "        text-align: right;\n",
       "    }\n",
       "</style>\n",
       "<table border=\"1\" class=\"dataframe\">\n",
       "  <thead>\n",
       "    <tr style=\"text-align: right;\">\n",
       "      <th></th>\n",
       "      <th>calcium</th>\n",
       "      <th>sodium</th>\n",
       "    </tr>\n",
       "  </thead>\n",
       "  <tbody>\n",
       "    <tr>\n",
       "      <th>0</th>\n",
       "      <td>3.455582</td>\n",
       "      <td>112.690980</td>\n",
       "    </tr>\n",
       "    <tr>\n",
       "      <th>1</th>\n",
       "      <td>3.669026</td>\n",
       "      <td>125.663330</td>\n",
       "    </tr>\n",
       "    <tr>\n",
       "      <th>2</th>\n",
       "      <td>2.789910</td>\n",
       "      <td>105.821810</td>\n",
       "    </tr>\n",
       "    <tr>\n",
       "      <th>3</th>\n",
       "      <td>2.939900</td>\n",
       "      <td>98.172772</td>\n",
       "    </tr>\n",
       "    <tr>\n",
       "      <th>4</th>\n",
       "      <td>5.426060</td>\n",
       "      <td>97.931489</td>\n",
       "    </tr>\n",
       "  </tbody>\n",
       "</table>\n",
       "</div>"
      ],
      "text/plain": [
       "    calcium      sodium\n",
       "0  3.455582  112.690980\n",
       "1  3.669026  125.663330\n",
       "2  2.789910  105.821810\n",
       "3  2.939900   98.172772\n",
       "4  5.426060   97.931489"
      ]
     },
     "execution_count": 51,
     "metadata": {},
     "output_type": "execute_result"
    }
   ],
   "source": [
    "df.head()"
   ]
  },
  {
   "cell_type": "markdown",
   "id": "55bd24e6",
   "metadata": {},
   "source": [
    "Without any input argument, this displays the first five data lines of the dataframe. You can specify alter the number of rows displayed by including a single integer as argument, e.g. `head(10)`.\n",
    "\n",
    "Print the first 3 rows of the dataframe."
   ]
  },
  {
   "cell_type": "code",
   "execution_count": null,
   "id": "fff244cd",
   "metadata": {},
   "outputs": [],
   "source": []
  },
  {
   "cell_type": "markdown",
   "id": "4fd149ed",
   "metadata": {},
   "source": [
    "If you feel there are too many decimal places in the default view, you can restrict their number by using the `round` function:"
   ]
  },
  {
   "cell_type": "code",
   "execution_count": 52,
   "id": "8dc8a59c",
   "metadata": {},
   "outputs": [
    {
     "data": {
      "text/html": [
       "<div>\n",
       "<style scoped>\n",
       "    .dataframe tbody tr th:only-of-type {\n",
       "        vertical-align: middle;\n",
       "    }\n",
       "\n",
       "    .dataframe tbody tr th {\n",
       "        vertical-align: top;\n",
       "    }\n",
       "\n",
       "    .dataframe thead th {\n",
       "        text-align: right;\n",
       "    }\n",
       "</style>\n",
       "<table border=\"1\" class=\"dataframe\">\n",
       "  <thead>\n",
       "    <tr style=\"text-align: right;\">\n",
       "      <th></th>\n",
       "      <th>calcium</th>\n",
       "      <th>sodium</th>\n",
       "    </tr>\n",
       "  </thead>\n",
       "  <tbody>\n",
       "    <tr>\n",
       "      <th>0</th>\n",
       "      <td>3.46</td>\n",
       "      <td>112.69</td>\n",
       "    </tr>\n",
       "    <tr>\n",
       "      <th>1</th>\n",
       "      <td>3.67</td>\n",
       "      <td>125.66</td>\n",
       "    </tr>\n",
       "    <tr>\n",
       "      <th>2</th>\n",
       "      <td>2.79</td>\n",
       "      <td>105.82</td>\n",
       "    </tr>\n",
       "    <tr>\n",
       "      <th>3</th>\n",
       "      <td>2.94</td>\n",
       "      <td>98.17</td>\n",
       "    </tr>\n",
       "    <tr>\n",
       "      <th>4</th>\n",
       "      <td>5.43</td>\n",
       "      <td>97.93</td>\n",
       "    </tr>\n",
       "  </tbody>\n",
       "</table>\n",
       "</div>"
      ],
      "text/plain": [
       "   calcium  sodium\n",
       "0     3.46  112.69\n",
       "1     3.67  125.66\n",
       "2     2.79  105.82\n",
       "3     2.94   98.17\n",
       "4     5.43   97.93"
      ]
     },
     "execution_count": 52,
     "metadata": {},
     "output_type": "execute_result"
    }
   ],
   "source": [
    "df.head().round(2)"
   ]
  },
  {
   "cell_type": "markdown",
   "id": "a9d447d3",
   "metadata": {},
   "source": [
    "While we can see how many rows there are in a dataframe when we display the whole data frame and look at the last index, there is a convenient way to obtain the number directly:"
   ]
  },
  {
   "cell_type": "code",
   "execution_count": 53,
   "id": "a85e9547",
   "metadata": {},
   "outputs": [
    {
     "name": "stdout",
     "output_type": "stream",
     "text": [
      "Data frame has 18 rows\n"
     ]
    }
   ],
   "source": [
    "no_rows = len(df)\n",
    "\n",
    "print('Data frame has', no_rows, 'rows')\n"
   ]
  },
  {
   "cell_type": "markdown",
   "id": "8655706c",
   "metadata": {},
   "source": [
    "To see the names of all the dataframe columns, we call the `columns` attribute of our dataframe:"
   ]
  },
  {
   "cell_type": "code",
   "execution_count": 54,
   "id": "f6fdd1e6",
   "metadata": {},
   "outputs": [
    {
     "name": "stdout",
     "output_type": "stream",
     "text": [
      "Index(['calcium', 'sodium'], dtype='object')\n"
     ]
    }
   ],
   "source": [
    "column_labels = df.columns\n",
    "\n",
    "print(column_labels)\n"
   ]
  },
  {
   "cell_type": "markdown",
   "id": "9f4a9238",
   "metadata": {},
   "source": [
    "Looking at how we counted the number of rows, how could we count the number of columns?"
   ]
  },
  {
   "cell_type": "code",
   "execution_count": 55,
   "id": "7610106a",
   "metadata": {},
   "outputs": [
    {
     "name": "stdout",
     "output_type": "stream",
     "text": [
      "The dataframe contains 0\n"
     ]
    }
   ],
   "source": [
    "column_num = 0\n",
    "print(f\"The dataframe contains {column_num}\")"
   ]
  },
  {
   "cell_type": "markdown",
   "id": "a78995fd",
   "metadata": {},
   "source": [
    "And if you want to have both the number of the rows and the columns together, use `shape`. Shape returns a tuple of two numbers, first the number of rows, then the number of columns."
   ]
  },
  {
   "cell_type": "code",
   "execution_count": 56,
   "id": "33a35376",
   "metadata": {},
   "outputs": [
    {
     "name": "stdout",
     "output_type": "stream",
     "text": [
      "Data frame has 18 rows and 2 columns\n"
     ]
    }
   ],
   "source": [
    "df_shape = df.shape\n",
    "\n",
    "print('Data frame has', df_shape[0], 'rows and',df_shape[1],  'columns')\n"
   ]
  },
  {
   "cell_type": "markdown",
   "id": "07162677",
   "metadata": {},
   "source": [
    "Notice that `shape` (like `columns`) is not followed by round parenthesis. It is not a function that can take arguments. Technically, `shape` is a 'property' of the dataframe.\n",
    "\n",
    "To find out what data type is contained in each of the columns, us `dtypes`, another 'property':"
   ]
  },
  {
   "cell_type": "code",
   "execution_count": 57,
   "id": "359ac582",
   "metadata": {},
   "outputs": [
    {
     "data": {
      "text/plain": [
       "calcium    float64\n",
       "sodium     float64\n",
       "dtype: object"
      ]
     },
     "execution_count": 57,
     "metadata": {},
     "output_type": "execute_result"
    }
   ],
   "source": [
    "df.dtypes"
   ]
  },
  {
   "cell_type": "markdown",
   "id": "07b01705",
   "metadata": {},
   "source": [
    "In this case, both columns contain floating point (decimal) numbers."
   ]
  },
  {
   "cell_type": "markdown",
   "id": "91a7adce",
   "metadata": {},
   "source": [
    "**Read in a dataframe**  \n",
    "Load the `load_data.csv` file in the `data` directory in to a DataFrame. It contains data that can be used for the assessment of loan applications. \n",
    "\n",
    "Why is it better to assign the new data to a variable name other than `df`?\n",
    "\n",
    "Display the first ten rows of the Loan data set to see its contents."
   ]
  },
  {
   "cell_type": "code",
   "execution_count": null,
   "id": "9d91db39",
   "metadata": {},
   "outputs": [],
   "source": []
  },
  {
   "cell_type": "markdown",
   "id": "1eafbbe3",
   "metadata": {},
   "source": [
    "A dataframe can contain different types of data. What are the data types included in our new dataframe?"
   ]
  },
  {
   "cell_type": "code",
   "execution_count": null,
   "id": "cb84a43b",
   "metadata": {},
   "outputs": [],
   "source": []
  },
  {
   "cell_type": "markdown",
   "id": "3fa93079",
   "metadata": {},
   "source": [
    "## Accessing data in a DataFrame\n",
    "<a id=\"pandas_access\"></a>\n",
    "\n",
    "If a datafile is large and you only want to check the format of data in a specific column, you can limit the display to that column.\n",
    "\n",
    "To access data contained in a specific column of a dataframe, we can use a similar convention as in a Python dictionary, treating the column names as 'keys'. E.g. to show all rows in column 'Calcium', use:"
   ]
  },
  {
   "cell_type": "code",
   "execution_count": 58,
   "id": "beb80702",
   "metadata": {},
   "outputs": [
    {
     "data": {
      "text/plain": [
       "0     3.455582\n",
       "1     3.669026\n",
       "2     2.789910\n",
       "3     2.939900\n",
       "4     5.426060\n",
       "5     0.715811\n",
       "6     5.652390\n",
       "7     3.571320\n",
       "8     4.300067\n",
       "9     1.369419\n",
       "10    2.550962\n",
       "11    2.894129\n",
       "12    3.664987\n",
       "13    1.362779\n",
       "14    3.718798\n",
       "15    1.865868\n",
       "16    3.272809\n",
       "17    3.917591\n",
       "Name: calcium, dtype: float64"
      ]
     },
     "execution_count": 58,
     "metadata": {},
     "output_type": "execute_result"
    }
   ],
   "source": [
    "df['calcium']"
   ]
  },
  {
   "cell_type": "markdown",
   "id": "66455fc3",
   "metadata": {},
   "source": [
    "To access individual rows of a column we use two pairs of square brackets. first pair of square brackets refers to a column and the second pair refers to the rows."
   ]
  },
  {
   "cell_type": "code",
   "execution_count": 59,
   "id": "493c84cb",
   "metadata": {},
   "outputs": [
    {
     "data": {
      "text/plain": [
       "0    3.455582\n",
       "1    3.669026\n",
       "2    2.789910\n",
       "Name: calcium, dtype: float64"
      ]
     },
     "execution_count": 59,
     "metadata": {},
     "output_type": "execute_result"
    }
   ],
   "source": [
    "df['calcium'][0:3]"
   ]
  },
  {
   "cell_type": "markdown",
   "id": "b837f1fb",
   "metadata": {},
   "source": [
    "Display the first three rows of the second column"
   ]
  },
  {
   "cell_type": "code",
   "execution_count": null,
   "id": "98dd5a0f",
   "metadata": {},
   "outputs": [],
   "source": []
  },
  {
   "cell_type": "markdown",
   "id": "6cfa0621",
   "metadata": {},
   "source": [
    "To access non-contiguous elements, for example to retrieve rows 3, 5 and 7, we place the row indicies within an additional pair of square brackets."
   ]
  },
  {
   "cell_type": "code",
   "execution_count": 60,
   "id": "0d2772e6",
   "metadata": {},
   "outputs": [
    {
     "data": {
      "text/plain": [
       "1    3.669026\n",
       "3    2.939900\n",
       "7    3.571320\n",
       "Name: calcium, dtype: float64"
      ]
     },
     "execution_count": 60,
     "metadata": {},
     "output_type": "execute_result"
    }
   ],
   "source": [
    "df['calcium'][[1, 3, 7]]"
   ]
  },
  {
   "cell_type": "markdown",
   "id": "1cb90e2f",
   "metadata": {},
   "source": [
    "Another possibility to index and slice a dataframe is the use of the 'index location' or `iloc` property. It refers first to **rows and then to columns** by index, all within a single pair of brackets. For example, to get all rows (done by providing not cutt off values, i.e. `:`) of the first column (index `0`), you use:"
   ]
  },
  {
   "cell_type": "code",
   "execution_count": 61,
   "id": "6fe1c96c",
   "metadata": {},
   "outputs": [
    {
     "data": {
      "text/plain": [
       "0     3.455582\n",
       "1     3.669026\n",
       "2     2.789910\n",
       "3     2.939900\n",
       "4     5.426060\n",
       "5     0.715811\n",
       "6     5.652390\n",
       "7     3.571320\n",
       "8     4.300067\n",
       "9     1.369419\n",
       "10    2.550962\n",
       "11    2.894129\n",
       "12    3.664987\n",
       "13    1.362779\n",
       "14    3.718798\n",
       "15    1.865868\n",
       "16    3.272809\n",
       "17    3.917591\n",
       "Name: calcium, dtype: float64"
      ]
     },
     "execution_count": 61,
     "metadata": {},
     "output_type": "execute_result"
    }
   ],
   "source": [
    "df.iloc[:, 0]"
   ]
  },
  {
   "cell_type": "markdown",
   "id": "1d50b2c1",
   "metadata": {},
   "source": [
    "To display only the first three calcium concentrations, you use slicing, remembering that the upper bound is excluded):"
   ]
  },
  {
   "cell_type": "code",
   "execution_count": 62,
   "id": "54c2ecc2",
   "metadata": {},
   "outputs": [
    {
     "data": {
      "text/plain": [
       "0    3.455582\n",
       "1    3.669026\n",
       "2    2.789910\n",
       "Name: calcium, dtype: float64"
      ]
     },
     "execution_count": 62,
     "metadata": {},
     "output_type": "execute_result"
    }
   ],
   "source": [
    "df.iloc[0:3, 0]"
   ]
  },
  {
   "cell_type": "markdown",
   "id": "9e62caec",
   "metadata": {},
   "source": [
    "To access non-consecutive values, we can use a pair of square brackets within the pair of square brackets: "
   ]
  },
  {
   "cell_type": "code",
   "execution_count": 63,
   "id": "fd43c4de",
   "metadata": {},
   "outputs": [
    {
     "data": {
      "text/plain": [
       "2    2.78991\n",
       "4    5.42606\n",
       "7    3.57132\n",
       "Name: calcium, dtype: float64"
      ]
     },
     "execution_count": 63,
     "metadata": {},
     "output_type": "execute_result"
    }
   ],
   "source": [
    "df.iloc[[2, 4, 7], 0]"
   ]
  },
  {
   "cell_type": "markdown",
   "id": "feda9007",
   "metadata": {},
   "source": [
    "What is the result of running the block below, and why?"
   ]
  },
  {
   "cell_type": "code",
   "execution_count": 64,
   "id": "c96d42b5",
   "metadata": {},
   "outputs": [
    {
     "data": {
      "text/html": [
       "<div>\n",
       "<style scoped>\n",
       "    .dataframe tbody tr th:only-of-type {\n",
       "        vertical-align: middle;\n",
       "    }\n",
       "\n",
       "    .dataframe tbody tr th {\n",
       "        vertical-align: top;\n",
       "    }\n",
       "\n",
       "    .dataframe thead th {\n",
       "        text-align: right;\n",
       "    }\n",
       "</style>\n",
       "<table border=\"1\" class=\"dataframe\">\n",
       "  <thead>\n",
       "    <tr style=\"text-align: right;\">\n",
       "      <th></th>\n",
       "      <th>calcium</th>\n",
       "      <th>sodium</th>\n",
       "    </tr>\n",
       "  </thead>\n",
       "  <tbody>\n",
       "    <tr>\n",
       "      <th>2</th>\n",
       "      <td>2.78991</td>\n",
       "      <td>105.821810</td>\n",
       "    </tr>\n",
       "    <tr>\n",
       "      <th>4</th>\n",
       "      <td>5.42606</td>\n",
       "      <td>97.931489</td>\n",
       "    </tr>\n",
       "    <tr>\n",
       "      <th>7</th>\n",
       "      <td>3.57132</td>\n",
       "      <td>112.647360</td>\n",
       "    </tr>\n",
       "  </tbody>\n",
       "</table>\n",
       "</div>"
      ],
      "text/plain": [
       "   calcium      sodium\n",
       "2  2.78991  105.821810\n",
       "4  5.42606   97.931489\n",
       "7  3.57132  112.647360"
      ]
     },
     "execution_count": 64,
     "metadata": {},
     "output_type": "execute_result"
    }
   ],
   "source": [
    "df.iloc[[2, 4, 7], :]"
   ]
  },
  {
   "cell_type": "markdown",
   "id": "673919a3",
   "metadata": {},
   "source": [
    "If we wanted every 3rd row in the column, we could write out each row index by hand. However, if our dataframe has hunderds of rows this would take an extremely long time. Alternatively, we can provide a third number to are colon series which defined our rows of interest. After defining the range of the rows of interest, we provide a second colon followed by an interger that indicates the stepsize of our sequence."
   ]
  },
  {
   "cell_type": "code",
   "execution_count": 65,
   "id": "58a879ba",
   "metadata": {},
   "outputs": [
    {
     "data": {
      "text/html": [
       "<div>\n",
       "<style scoped>\n",
       "    .dataframe tbody tr th:only-of-type {\n",
       "        vertical-align: middle;\n",
       "    }\n",
       "\n",
       "    .dataframe tbody tr th {\n",
       "        vertical-align: top;\n",
       "    }\n",
       "\n",
       "    .dataframe thead th {\n",
       "        text-align: right;\n",
       "    }\n",
       "</style>\n",
       "<table border=\"1\" class=\"dataframe\">\n",
       "  <thead>\n",
       "    <tr style=\"text-align: right;\">\n",
       "      <th></th>\n",
       "      <th>calcium</th>\n",
       "      <th>sodium</th>\n",
       "    </tr>\n",
       "  </thead>\n",
       "  <tbody>\n",
       "    <tr>\n",
       "      <th>0</th>\n",
       "      <td>3.455582</td>\n",
       "      <td>112.690980</td>\n",
       "    </tr>\n",
       "    <tr>\n",
       "      <th>2</th>\n",
       "      <td>2.789910</td>\n",
       "      <td>105.821810</td>\n",
       "    </tr>\n",
       "    <tr>\n",
       "      <th>4</th>\n",
       "      <td>5.426060</td>\n",
       "      <td>97.931489</td>\n",
       "    </tr>\n",
       "    <tr>\n",
       "      <th>6</th>\n",
       "      <td>5.652390</td>\n",
       "      <td>112.871500</td>\n",
       "    </tr>\n",
       "    <tr>\n",
       "      <th>8</th>\n",
       "      <td>4.300067</td>\n",
       "      <td>132.031720</td>\n",
       "    </tr>\n",
       "    <tr>\n",
       "      <th>10</th>\n",
       "      <td>2.550962</td>\n",
       "      <td>117.373730</td>\n",
       "    </tr>\n",
       "    <tr>\n",
       "      <th>12</th>\n",
       "      <td>3.664987</td>\n",
       "      <td>105.346410</td>\n",
       "    </tr>\n",
       "    <tr>\n",
       "      <th>14</th>\n",
       "      <td>3.718798</td>\n",
       "      <td>125.021060</td>\n",
       "    </tr>\n",
       "    <tr>\n",
       "      <th>16</th>\n",
       "      <td>3.272809</td>\n",
       "      <td>117.588040</td>\n",
       "    </tr>\n",
       "  </tbody>\n",
       "</table>\n",
       "</div>"
      ],
      "text/plain": [
       "     calcium      sodium\n",
       "0   3.455582  112.690980\n",
       "2   2.789910  105.821810\n",
       "4   5.426060   97.931489\n",
       "6   5.652390  112.871500\n",
       "8   4.300067  132.031720\n",
       "10  2.550962  117.373730\n",
       "12  3.664987  105.346410\n",
       "14  3.718798  125.021060\n",
       "16  3.272809  117.588040"
      ]
     },
     "execution_count": 65,
     "metadata": {},
     "output_type": "execute_result"
    }
   ],
   "source": [
    "df.iloc[:18:2, :]"
   ]
  },
  {
   "cell_type": "markdown",
   "id": "137ba394",
   "metadata": {},
   "source": [
    "Display the calcium and sodium concentrations of all patients except the first."
   ]
  },
  {
   "cell_type": "code",
   "execution_count": null,
   "id": "d99ea391",
   "metadata": {},
   "outputs": [],
   "source": []
  },
  {
   "cell_type": "markdown",
   "id": "29bbfa57",
   "metadata": {},
   "source": [
    "__Search for missing values__\n",
    "\n",
    "Some tables contain missing entries. You can check a dataframe for such missing entries. If no missing entry is found, the function `isnull` will return `False`."
   ]
  },
  {
   "cell_type": "code",
   "execution_count": 66,
   "id": "ff0dbcde",
   "metadata": {},
   "outputs": [
    {
     "data": {
      "text/plain": [
       "calcium    False\n",
       "sodium     False\n",
       "dtype: bool"
      ]
     },
     "execution_count": 66,
     "metadata": {},
     "output_type": "execute_result"
    }
   ],
   "source": [
    "df.isnull().any()"
   ]
  },
  {
   "cell_type": "markdown",
   "id": "df772420",
   "metadata": {},
   "source": [
    "**Find NaN in dataframe**\n",
    "\n",
    "In the Loan data set, check the entry 'Self-employed' for ID LP001059. It shows how a missing value is represented as 'NaN' (not a number).\n",
    "\n",
    "Verify that the output of `isnull` in this case is `True`"
   ]
  },
  {
   "cell_type": "markdown",
   "id": "6c7c3fd4",
   "metadata": {},
   "source": [
    "## Exploring data in a dataframe\n",
    "<a id=\"pandas_explore\"></a>\n",
    "\n",
    "`pandas` allows us to perform some basic statistical operations to explore the data in our dataframe.\n",
    "\n",
    "To get a summary of basic data features use the function `describe`:"
   ]
  },
  {
   "cell_type": "code",
   "execution_count": 67,
   "id": "a2ebc3d4",
   "metadata": {},
   "outputs": [
    {
     "data": {
      "text/html": [
       "<div>\n",
       "<style scoped>\n",
       "    .dataframe tbody tr th:only-of-type {\n",
       "        vertical-align: middle;\n",
       "    }\n",
       "\n",
       "    .dataframe tbody tr th {\n",
       "        vertical-align: top;\n",
       "    }\n",
       "\n",
       "    .dataframe thead th {\n",
       "        text-align: right;\n",
       "    }\n",
       "</style>\n",
       "<table border=\"1\" class=\"dataframe\">\n",
       "  <thead>\n",
       "    <tr style=\"text-align: right;\">\n",
       "      <th></th>\n",
       "      <th>calcium</th>\n",
       "      <th>sodium</th>\n",
       "    </tr>\n",
       "  </thead>\n",
       "  <tbody>\n",
       "    <tr>\n",
       "      <th>count</th>\n",
       "      <td>18.000000</td>\n",
       "      <td>18.000000</td>\n",
       "    </tr>\n",
       "    <tr>\n",
       "      <th>mean</th>\n",
       "      <td>3.174301</td>\n",
       "      <td>115.167484</td>\n",
       "    </tr>\n",
       "    <tr>\n",
       "      <th>std</th>\n",
       "      <td>1.306652</td>\n",
       "      <td>10.756852</td>\n",
       "    </tr>\n",
       "    <tr>\n",
       "      <th>min</th>\n",
       "      <td>0.715811</td>\n",
       "      <td>97.931489</td>\n",
       "    </tr>\n",
       "    <tr>\n",
       "      <th>25%</th>\n",
       "      <td>2.610699</td>\n",
       "      <td>107.385212</td>\n",
       "    </tr>\n",
       "    <tr>\n",
       "      <th>50%</th>\n",
       "      <td>3.364195</td>\n",
       "      <td>115.122615</td>\n",
       "    </tr>\n",
       "    <tr>\n",
       "      <th>75%</th>\n",
       "      <td>3.706355</td>\n",
       "      <td>122.734200</td>\n",
       "    </tr>\n",
       "    <tr>\n",
       "      <th>max</th>\n",
       "      <td>5.652390</td>\n",
       "      <td>134.052390</td>\n",
       "    </tr>\n",
       "  </tbody>\n",
       "</table>\n",
       "</div>"
      ],
      "text/plain": [
       "         calcium      sodium\n",
       "count  18.000000   18.000000\n",
       "mean    3.174301  115.167484\n",
       "std     1.306652   10.756852\n",
       "min     0.715811   97.931489\n",
       "25%     2.610699  107.385212\n",
       "50%     3.364195  115.122615\n",
       "75%     3.706355  122.734200\n",
       "max     5.652390  134.052390"
      ]
     },
     "execution_count": 67,
     "metadata": {},
     "output_type": "execute_result"
    }
   ],
   "source": [
    "description = df.describe()\n",
    "\n",
    "description"
   ]
  },
  {
   "cell_type": "markdown",
   "id": "6e2f407a",
   "metadata": {},
   "source": [
    "The `describe` function produces a new dataframe (here called 'descrition') that contains the number of samples, the mean, the standard deviation, minimum, 25th, 50th, 75th  percentile, and the maximum value for each column of the data.\n",
    "\n",
    "Note that the indices of the rows have now been replaced by strings. To access rows, it is possible to refer to those names using the `loc` property. E.g. to access the mean of the calcium concentrations from the description, each of the following is valid:"
   ]
  },
  {
   "cell_type": "code",
   "execution_count": 68,
   "id": "e7854b49",
   "metadata": {},
   "outputs": [
    {
     "data": {
      "text/plain": [
       "3.1743005405555555"
      ]
     },
     "execution_count": 68,
     "metadata": {},
     "output_type": "execute_result"
    }
   ],
   "source": [
    "# Option 1\n",
    "description.loc['mean']['calcium']\n",
    "\n",
    "# Option 2\n",
    "description.loc['mean'][0]\n",
    "\n",
    "# Option 3\n",
    "description['calcium']['mean']\n",
    "\n",
    "# Option 4\n",
    "description['calcium'][1]"
   ]
  },
  {
   "cell_type": "markdown",
   "id": "87c0d95d",
   "metadata": {},
   "source": [
    "Use your own .csv data set (or one of the ones provided) to practice.\n",
    "1. Read it into a dataframe\n",
    "2. Check its header\n",
    "3. Access indivdual values or sets of values\n",
    "4. Create a statistics using `describe` and check for missing values using `.isnull`"
   ]
  },
  {
   "cell_type": "markdown",
   "id": "1082cb74",
   "metadata": {},
   "source": [
    "## For loops, and iterating through columns\n",
    "<a id=\"for_loops\"></a>\n",
    "\n"
   ]
  },
  {
   "cell_type": "markdown",
   "id": "c35ed4f7",
   "metadata": {},
   "source": [
    "### Iterating through columns\n",
    "\n",
    "Now we can apply what we have learnt about for loops to our data. We know how to access all data in a dataframe and how to get a summary statistics over each column. \n",
    "\n",
    "Here is code to iterate through the columns and access the first two concentrations: "
   ]
  },
  {
   "cell_type": "code",
   "execution_count": 69,
   "id": "c3c786e1",
   "metadata": {},
   "outputs": [
    {
     "name": "stdout",
     "output_type": "stream",
     "text": [
      "0    3.455582\n",
      "1    3.669026\n",
      "Name: calcium, dtype: float64\n",
      "0    112.69098\n",
      "1    125.66333\n",
      "Name: sodium, dtype: float64\n"
     ]
    }
   ],
   "source": [
    "for col in df:\n",
    "    \n",
    "    print(df[col][0:2])"
   ]
  },
  {
   "cell_type": "markdown",
   "id": "2f5487c8",
   "metadata": {},
   "source": [
    "As a slightly more complex example, we access the median ('50%') of each column in the description and add it to a list:"
   ]
  },
  {
   "cell_type": "code",
   "execution_count": 70,
   "id": "b39c4f61",
   "metadata": {},
   "outputs": [
    {
     "name": "stdout",
     "output_type": "stream",
     "text": [
      "The columns are:  ['calcium', 'sodium']\n",
      "The medians are:  [3.3641954, 115.122615]\n"
     ]
    }
   ],
   "source": [
    "conc_medians = []\n",
    "\n",
    "for col in df:\n",
    "    conc_medians.append(df[col].describe()['50%'])\n",
    "\n",
    "print('The columns are: ', list(df.columns))\n",
    "print('The medians are: ', conc_medians)"
   ]
  },
  {
   "cell_type": "markdown",
   "id": "405988f4",
   "metadata": {},
   "source": [
    "conc_medians = list()\n",
    "\n",
    "for col in df:\n",
    "    \n",
    "    conc_medians.append(df[col].describe()['50%'])\n",
    "\n",
    "print('The columns are: ', list(df.columns))\n",
    "print('The medians are: ', conc_medians)"
   ]
  },
  {
   "cell_type": "markdown",
   "id": "0c52de18",
   "metadata": {},
   "source": [
    "## Selecting a subset based on a template\n",
    "<a id=\"subset\"></a>\n",
    "\n",
    "An analysis of a data set may need to be done on part of the data. This can often be formulated by using a logical condition which specifies the required subset.\n",
    "\n",
    "For this we will assume that some of the data are labelled '0' and some are labelled '1'. Let us therefore see how to add a new column to our Evereleys data frame which contains the (in this case arbitrary) labels.\n",
    "\n",
    "First we randomly create as many labels as we have rows in the data frame. We can use the `randint` function which we import from 'numpy.random' (which was imported in the [Import](#import) section of this notebook. `randint` in its simple form takes two arguments. First the upper bound of the integer needed, where by default it starts from zero. As Python is exclusive on the upper bound, providing '2' will thus yield either '0' or '1' only. "
   ]
  },
  {
   "cell_type": "code",
   "execution_count": 71,
   "id": "3bd9785e",
   "metadata": {},
   "outputs": [
    {
     "name": "stdout",
     "output_type": "stream",
     "text": [
      "Number of rows:   18\n",
      "Number of Labels: 18\n",
      "Labels:           [0 0 1 0 0 0 0 1 1 1 1 0 0 1 1 1 1 0]\n"
     ]
    }
   ],
   "source": [
    "no_rows = len(df)\n",
    "\n",
    "randomLabel = randint(2, size=no_rows)\n",
    "\n",
    "print('Number of rows:  ', no_rows)\n",
    "print('Number of Labels:', len(randomLabel))\n",
    "print('Labels:          ', randomLabel)\n"
   ]
  },
  {
   "cell_type": "markdown",
   "id": "199a5a4e",
   "metadata": {},
   "source": [
    "Note how we obtain the number of rows (18) using `len` and do not put it directly into the code. \n",
    "\n",
    "Now we create a new data column in our `df` dataframe which contains the labels. To create a new column, you can simply refer to a column name that does not yet exist and assign values to it. Let us call it 'gender', assuming that '0' represents male and '1' represents female. \n",
    "\n",
    "As gender specification can include more than two labels, try to create a column with more than two randomly assigned labels e.g. (0, 1, 2)."
   ]
  },
  {
   "cell_type": "code",
   "execution_count": 72,
   "id": "ed50234d",
   "metadata": {},
   "outputs": [
    {
     "data": {
      "text/html": [
       "<div>\n",
       "<style scoped>\n",
       "    .dataframe tbody tr th:only-of-type {\n",
       "        vertical-align: middle;\n",
       "    }\n",
       "\n",
       "    .dataframe tbody tr th {\n",
       "        vertical-align: top;\n",
       "    }\n",
       "\n",
       "    .dataframe thead th {\n",
       "        text-align: right;\n",
       "    }\n",
       "</style>\n",
       "<table border=\"1\" class=\"dataframe\">\n",
       "  <thead>\n",
       "    <tr style=\"text-align: right;\">\n",
       "      <th></th>\n",
       "      <th>calcium</th>\n",
       "      <th>sodium</th>\n",
       "      <th>gender</th>\n",
       "    </tr>\n",
       "  </thead>\n",
       "  <tbody>\n",
       "    <tr>\n",
       "      <th>0</th>\n",
       "      <td>3.455582</td>\n",
       "      <td>112.690980</td>\n",
       "      <td>0</td>\n",
       "    </tr>\n",
       "    <tr>\n",
       "      <th>1</th>\n",
       "      <td>3.669026</td>\n",
       "      <td>125.663330</td>\n",
       "      <td>0</td>\n",
       "    </tr>\n",
       "    <tr>\n",
       "      <th>2</th>\n",
       "      <td>2.789910</td>\n",
       "      <td>105.821810</td>\n",
       "      <td>1</td>\n",
       "    </tr>\n",
       "    <tr>\n",
       "      <th>3</th>\n",
       "      <td>2.939900</td>\n",
       "      <td>98.172772</td>\n",
       "      <td>0</td>\n",
       "    </tr>\n",
       "    <tr>\n",
       "      <th>4</th>\n",
       "      <td>5.426060</td>\n",
       "      <td>97.931489</td>\n",
       "      <td>0</td>\n",
       "    </tr>\n",
       "  </tbody>\n",
       "</table>\n",
       "</div>"
      ],
      "text/plain": [
       "    calcium      sodium  gender\n",
       "0  3.455582  112.690980       0\n",
       "1  3.669026  125.663330       0\n",
       "2  2.789910  105.821810       1\n",
       "3  2.939900   98.172772       0\n",
       "4  5.426060   97.931489       0"
      ]
     },
     "execution_count": 72,
     "metadata": {},
     "output_type": "execute_result"
    }
   ],
   "source": [
    "df['gender'] = randomLabel\n",
    "\n",
    "df.head()"
   ]
  },
  {
   "cell_type": "markdown",
   "id": "8195a760",
   "metadata": {},
   "source": [
    "Now we can use the information contained in 'gender' to filter the data by gender. To achieve this, we use a conditional statement. Let us check which of the rows are labelled as '1':"
   ]
  },
  {
   "cell_type": "code",
   "execution_count": 73,
   "id": "b18ef6c5",
   "metadata": {},
   "outputs": [
    {
     "data": {
      "text/plain": [
       "0     False\n",
       "1     False\n",
       "2      True\n",
       "3     False\n",
       "4     False\n",
       "5     False\n",
       "6     False\n",
       "7      True\n",
       "8      True\n",
       "9      True\n",
       "10     True\n",
       "11    False\n",
       "12    False\n",
       "13     True\n",
       "14     True\n",
       "15     True\n",
       "16     True\n",
       "17    False\n",
       "Name: gender, dtype: bool"
      ]
     },
     "execution_count": 73,
     "metadata": {},
     "output_type": "execute_result"
    }
   ],
   "source": [
    "df['gender'] == 1"
   ]
  },
  {
   "cell_type": "markdown",
   "id": "068ee6a5",
   "metadata": {},
   "source": [
    "If we assign the result of the conditional statement (Boolean True or False) to a variable, then this variable can act as a template to filter the data. If we call the data frame with that variable, we will only get the rows where the condition was found to be True:"
   ]
  },
  {
   "cell_type": "code",
   "execution_count": 74,
   "id": "c55cf1b5",
   "metadata": {},
   "outputs": [
    {
     "data": {
      "text/html": [
       "<div>\n",
       "<style scoped>\n",
       "    .dataframe tbody tr th:only-of-type {\n",
       "        vertical-align: middle;\n",
       "    }\n",
       "\n",
       "    .dataframe tbody tr th {\n",
       "        vertical-align: top;\n",
       "    }\n",
       "\n",
       "    .dataframe thead th {\n",
       "        text-align: right;\n",
       "    }\n",
       "</style>\n",
       "<table border=\"1\" class=\"dataframe\">\n",
       "  <thead>\n",
       "    <tr style=\"text-align: right;\">\n",
       "      <th></th>\n",
       "      <th>calcium</th>\n",
       "      <th>sodium</th>\n",
       "      <th>gender</th>\n",
       "    </tr>\n",
       "  </thead>\n",
       "  <tbody>\n",
       "    <tr>\n",
       "      <th>2</th>\n",
       "      <td>2.789910</td>\n",
       "      <td>105.82181</td>\n",
       "      <td>1</td>\n",
       "    </tr>\n",
       "    <tr>\n",
       "      <th>7</th>\n",
       "      <td>3.571320</td>\n",
       "      <td>112.64736</td>\n",
       "      <td>1</td>\n",
       "    </tr>\n",
       "    <tr>\n",
       "      <th>8</th>\n",
       "      <td>4.300067</td>\n",
       "      <td>132.03172</td>\n",
       "      <td>1</td>\n",
       "    </tr>\n",
       "    <tr>\n",
       "      <th>9</th>\n",
       "      <td>1.369419</td>\n",
       "      <td>118.49901</td>\n",
       "      <td>1</td>\n",
       "    </tr>\n",
       "    <tr>\n",
       "      <th>10</th>\n",
       "      <td>2.550962</td>\n",
       "      <td>117.37373</td>\n",
       "      <td>1</td>\n",
       "    </tr>\n",
       "    <tr>\n",
       "      <th>13</th>\n",
       "      <td>1.362779</td>\n",
       "      <td>123.35949</td>\n",
       "      <td>1</td>\n",
       "    </tr>\n",
       "    <tr>\n",
       "      <th>14</th>\n",
       "      <td>3.718798</td>\n",
       "      <td>125.02106</td>\n",
       "      <td>1</td>\n",
       "    </tr>\n",
       "    <tr>\n",
       "      <th>15</th>\n",
       "      <td>1.865868</td>\n",
       "      <td>112.07542</td>\n",
       "      <td>1</td>\n",
       "    </tr>\n",
       "    <tr>\n",
       "      <th>16</th>\n",
       "      <td>3.272809</td>\n",
       "      <td>117.58804</td>\n",
       "      <td>1</td>\n",
       "    </tr>\n",
       "  </tbody>\n",
       "</table>\n",
       "</div>"
      ],
      "text/plain": [
       "     calcium     sodium  gender\n",
       "2   2.789910  105.82181       1\n",
       "7   3.571320  112.64736       1\n",
       "8   4.300067  132.03172       1\n",
       "9   1.369419  118.49901       1\n",
       "10  2.550962  117.37373       1\n",
       "13  1.362779  123.35949       1\n",
       "14  3.718798  125.02106       1\n",
       "15  1.865868  112.07542       1\n",
       "16  3.272809  117.58804       1"
      ]
     },
     "execution_count": 74,
     "metadata": {},
     "output_type": "execute_result"
    }
   ],
   "source": [
    "df_female = df['gender'] == 1\n",
    "\n",
    "df[df_female]"
   ]
  },
  {
   "cell_type": "markdown",
   "id": "9f0771b7",
   "metadata": {},
   "source": [
    "Using the Boolean, we only pick the rows that are labelled '1' and thus get a subset of the data according to the label. "
   ]
  },
  {
   "cell_type": "markdown",
   "id": "0c6af46d",
   "metadata": {},
   "source": [
    "**Using a template**\n",
    "\n",
    "Modify the code to calculate the number of samples labelled 0 and check the number of rows of that subset."
   ]
  },
  {
   "cell_type": "code",
   "execution_count": null,
   "id": "bdb67c47",
   "metadata": {},
   "outputs": [],
   "source": []
  },
  {
   "cell_type": "markdown",
   "id": "bdfd9b01",
   "metadata": {},
   "source": [
    "Using your own csv file, or one of the other files provided, subset your data and calculate the mean on a specific column within your data subset."
   ]
  },
  {
   "cell_type": "code",
   "execution_count": null,
   "id": "f8a46d71",
   "metadata": {},
   "outputs": [],
   "source": []
  },
  {
   "cell_type": "markdown",
   "id": "e485e223",
   "metadata": {},
   "source": [
    "# Visualisation of data using `pandas`\n",
    "<a id=\"pandas_vis\"></a>\n",
    "\n",
    "It is easy to see from the numbers that the concentrations of sodium are much higher than that of calcium. However, to also compare the medians, percentiles and the spread of the data it is better to use visualisation. \n",
    "\n",
    "The simplest way of visualisation is to use Pandas functionality which offers direct ways of plotting. Here is an example where a boxplot is created for each column:\n"
   ]
  },
  {
   "cell_type": "code",
   "execution_count": 75,
   "id": "4ad4f168",
   "metadata": {},
   "outputs": [
    {
     "data": {
      "image/png": "[encoded data removed]",
      "text/plain": [
       "<Figure size 432x288 with 1 Axes>"
      ]
     },
     "metadata": {
      "needs_background": "light"
     },
     "output_type": "display_data"
    }
   ],
   "source": [
    "df.boxplot();"
   ]
  },
  {
   "cell_type": "markdown",
   "id": "cb4dff34",
   "metadata": {},
   "source": [
    "By default, boxplots are shown for all columns if no further argument is given to the function (empty round parenthesis). As the calcium plot is rather squeezed we may wish to see it individually. This can be done by specifying the calcium column as an argument:"
   ]
  },
  {
   "cell_type": "code",
   "execution_count": 76,
   "id": "df1160d7",
   "metadata": {},
   "outputs": [
    {
     "data": {
      "image/png": "[encoded data removed]",
      "text/plain": [
       "<Figure size 432x288 with 1 Axes>"
      ]
     },
     "metadata": {
      "needs_background": "light"
     },
     "output_type": "display_data"
    }
   ],
   "source": [
    "# Boxplot of calcium results\n",
    "df.boxplot(column='calcium');"
   ]
  },
  {
   "cell_type": "markdown",
   "id": "46a70ba4",
   "metadata": {},
   "source": [
    "Look at the documentation for plotting data using `pandas`, found [here](https://pandas.pydata.org/pandas-docs/stable/user_guide/visualization.html#:~:text=Plotting%20with%20missing%20data%20%C2%B6%20%20%20,%20Drop%20NaNs%20%206%20more%20rows%20). Using a dataset of choice, generate some of the graphs using the other plot types. What are the types of plots than pandas can produce?"
   ]
  },
  {
   "cell_type": "code",
   "execution_count": null,
   "id": "59f3df1c",
   "metadata": {},
   "outputs": [],
   "source": []
  },
  {
   "cell_type": "markdown",
   "id": "17db02c6",
   "metadata": {},
   "source": [
    "# Generating plots using `Matplotlib`\n",
    "<a id=\"matplot\"></a>\n",
    "\n",
    "> [__Matplotlib__](https://matplotlib.org) is a comprehensive library for creating static, animated, and interactive visualizations in Python.\n",
    "\n",
    "In the previous section we used `pandas` as an easy way to create some basic plots directly from the data within our dataframe. \n",
    "\n",
    "It is based on the library Matplotlib and specifically uses the __pyplot library__. For simplicity, the code is put in a convenient Pandas function. \n",
    "\n",
    "However, we are going to use __Matplotlib__ provides far more options for customising our plots.\n",
    "\n",
    "We will be using the `subplots` funcion from the [`pyplot` library](https://matplotlib.org/stable/api/pyplot_summary.html) (which was imported in the [Imports](#imports) section of this notebook.\n",
    "\n",
    "To use `subplots` we first set up a figure environment (in the example below we call it `fig`) and an empty coordinate system (called `ax` in the example below). \n",
    "\n",
    "The plot is then generated by calling one of the many methods available in Matplotlib. We apply it to the coordinate system 'ax'. Here we generate a boxplot by calling the `boxplot` method of `ax`."
   ]
  },
  {
   "cell_type": "code",
   "execution_count": 77,
   "id": "24337e2f",
   "metadata": {},
   "outputs": [
    {
     "data": {
      "text/plain": [
       "{'whiskers': [<matplotlib.lines.Line2D at 0x7fb6344fd7c0>,\n",
       "  <matplotlib.lines.Line2D at 0x7fb6344fdb50>],\n",
       " 'caps': [<matplotlib.lines.Line2D at 0x7fb6344fdee0>,\n",
       "  <matplotlib.lines.Line2D at 0x7fb6343f72b0>],\n",
       " 'boxes': [<matplotlib.lines.Line2D at 0x7fb6344fd430>],\n",
       " 'medians': [<matplotlib.lines.Line2D at 0x7fb6343f7640>],\n",
       " 'fliers': [<matplotlib.lines.Line2D at 0x7fb6343f79d0>],\n",
       " 'means': []}"
      ]
     },
     "execution_count": 77,
     "metadata": {},
     "output_type": "execute_result"
    },
    {
     "data": {
      "image/png": "[encoded data removed]",
      "text/plain": [
       "<Figure size 432x288 with 1 Axes>"
      ]
     },
     "metadata": {
      "needs_background": "light"
     },
     "output_type": "display_data"
    }
   ],
   "source": [
    "fig, ax = subplots()\n",
    "ax.boxplot(df['calcium'])"
   ]
  },
  {
   "cell_type": "markdown",
   "id": "ba8e64b0",
   "metadata": {},
   "source": [
    "`ax` has several properties that several methods and attributes we can call in order to cusomise our plot. We can call the `set_title` method to add a title to our plot: "
   ]
  },
  {
   "cell_type": "code",
   "execution_count": 78,
   "id": "fc9f6ce1",
   "metadata": {},
   "outputs": [
    {
     "data": {
      "text/plain": [
       "Text(0.5, 1.0, \"Boxplot of Everley's Calcium\")"
      ]
     },
     "execution_count": 78,
     "metadata": {},
     "output_type": "execute_result"
    },
    {
     "data": {
      "image/png": "[encoded data removed]",
      "text/plain": [
       "<Figure size 432x288 with 1 Axes>"
      ]
     },
     "metadata": {
      "needs_background": "light"
     },
     "output_type": "display_data"
    }
   ],
   "source": [
    "fig, ax = subplots()\n",
    "ax.boxplot(df['calcium'])\n",
    "ax.set_title('Boxplot of Everley\\'s Calcium')"
   ]
  },
  {
   "cell_type": "markdown",
   "id": "68ed984e",
   "metadata": {},
   "source": [
    "Above we generated a single plot. As its name indicates, `subplot` allows us to generate a single figure with multiple subplots.\n",
    "\n",
    "Here is an example to create two boxplots next to each other. The keyword arguments to use is `ncols` which is the number of figures per row. 'ncols=2' indicates that you want to have two plots next to each other. "
   ]
  },
  {
   "cell_type": "code",
   "execution_count": 79,
   "id": "9221ac95",
   "metadata": {},
   "outputs": [
    {
     "data": {
      "image/png": "[encoded data removed]",
      "text/plain": [
       "<Figure size 432x288 with 2 Axes>"
      ]
     },
     "metadata": {
      "needs_background": "light"
     },
     "output_type": "display_data"
    }
   ],
   "source": [
    "fig, ax = subplots(ncols=2)\n",
    "\n",
    "ax[0].boxplot(df['calcium'])\n",
    "ax[0].set_title('Calcium')\n",
    "\n",
    "ax[1].boxplot(df['sodium'])\n",
    "ax[1].set_title('Sodium');"
   ]
  },
  {
   "cell_type": "markdown",
   "id": "4f6700ed",
   "metadata": {},
   "source": [
    "The keyword `nrows` can be used in the same manner to define the number of rows of subplots. `nrows` and `ncols` can be applied at the same time.\n",
    "\n",
    "Reproduce the plot above with one subplot on top of each other, instead of side-by-side."
   ]
  },
  {
   "cell_type": "code",
   "execution_count": null,
   "id": "4d064074",
   "metadata": {},
   "outputs": [],
   "source": []
  },
  {
   "cell_type": "markdown",
   "id": "208665c0",
   "metadata": {},
   "source": [
    "If you prefer to have the boxplots of both columns in a single figure, that can also be done. Simply pass all the data to be contained within the plot to the plot function (in this case `boxplot`)."
   ]
  },
  {
   "cell_type": "code",
   "execution_count": 80,
   "id": "0305ab66",
   "metadata": {},
   "outputs": [
    {
     "data": {
      "text/plain": [
       "Text(0.5, 1.0, 'Boxplot of Calcium (left) and Sodium (right)')"
      ]
     },
     "execution_count": 80,
     "metadata": {},
     "output_type": "execute_result"
    },
    {
     "data": {
      "image/png": "[encoded data removed]",
      "text/plain": [
       "<Figure size 432x288 with 1 Axes>"
      ]
     },
     "metadata": {
      "needs_background": "light"
     },
     "output_type": "display_data"
    }
   ],
   "source": [
    "fig, ax = subplots(ncols=1, nrows=1)\n",
    "ax.boxplot([df['calcium'], df['sodium']], positions=[1, 2])\n",
    "ax.set_title('Boxplot of Calcium (left) and Sodium (right)')"
   ]
  },
  {
   "cell_type": "markdown",
   "id": "c7d15ce8",
   "metadata": {},
   "source": [
    "**Boxplot from Loan data**\n",
    "\n",
    "Plot the boxplots of the 'ApplicantIncome' and the 'CoapplicantIncome' in the Loan data using the above code. "
   ]
  },
  {
   "cell_type": "code",
   "execution_count": null,
   "id": "9f4a7a3e",
   "metadata": {},
   "outputs": [],
   "source": []
  },
  {
   "cell_type": "markdown",
   "id": "4d9fab03",
   "metadata": {},
   "source": [
    "So far we have looked at boxplots. The principles used to generate the boxplots are applied to the other methods of plotting data from `matplotlib`.\n",
    "\n",
    "Another good overview is the histogram: Containers or 'bins' are created over the range of values found within a column and the count of the values for each bin is plotted on the vertical axis.\n",
    "\n",
    "Instead of calling the `boxplot` method, to plot a histogram we call the `hist` method.\n",
    "\n",
    "We can also call the `set` method and use the `xlabel` and `ylabel` keywords to label the axes."
   ]
  },
  {
   "cell_type": "code",
   "execution_count": 81,
   "id": "b9e820e4",
   "metadata": {},
   "outputs": [
    {
     "data": {
      "image/png": "[encoded data removed]",
      "text/plain": [
       "<Figure size 432x288 with 2 Axes>"
      ]
     },
     "metadata": {
      "needs_background": "light"
     },
     "output_type": "display_data"
    }
   ],
   "source": [
    "fig, ax = subplots(ncols=2, nrows=1)\n",
    "\n",
    "ax[0].hist(df['calcium'])\n",
    "ax[0].set(xlabel='Calcium', ylabel='Count');\n",
    "\n",
    "ax[1].hist(df['sodium'])\n",
    "ax[1].set(xlabel='Sodium', ylabel='Count');\n",
    "\n",
    "fig.suptitle('Histograms of Everley concentrations', fontsize=15);"
   ]
  },
  {
   "cell_type": "markdown",
   "id": "f7116e73",
   "metadata": {},
   "source": [
    "The plots use the default bin size of 10 bins over our entire ranage of data. The number of bins in the histogram can be changed using the keyword argument `bins`:"
   ]
  },
  {
   "cell_type": "code",
   "execution_count": 82,
   "id": "a43ea86e",
   "metadata": {},
   "outputs": [
    {
     "data": {
      "image/png": "[encoded data removed]",
      "text/plain": [
       "<Figure size 432x288 with 2 Axes>"
      ]
     },
     "metadata": {
      "needs_background": "light"
     },
     "output_type": "display_data"
    }
   ],
   "source": [
    "fig, ax = subplots(ncols=2, nrows=1)\n",
    "\n",
    "ax[0].hist(df['calcium'], bins=5)\n",
    "ax[0].set(xlabel='Calcium, 5 bins', ylabel='Count');\n",
    "\n",
    "ax[1].hist(df['calcium'], bins=15)\n",
    "ax[1].set(xlabel='Calcium, 15 bins', ylabel='Count');\n",
    "fig.suptitle('Histograms with Different Binnings', fontsize=16);"
   ]
  },
  {
   "cell_type": "markdown",
   "id": "cb0d8f10",
   "metadata": {},
   "source": [
    "Sometime labels are not placed well. To correct for the placement of the labels and the title, you can use \n",
    "`tight_layout` on the figure:"
   ]
  },
  {
   "cell_type": "code",
   "execution_count": 83,
   "id": "65631f1d",
   "metadata": {},
   "outputs": [
    {
     "data": {
      "image/png": "[encoded data removed]",
      "text/plain": [
       "<Figure size 432x288 with 2 Axes>"
      ]
     },
     "metadata": {
      "needs_background": "light"
     },
     "output_type": "display_data"
    }
   ],
   "source": [
    "fig, ax = subplots(ncols=2, nrows=1)\n",
    "\n",
    "ax[0].hist(df['calcium'], bins=5)\n",
    "ax[0].set(xlabel='Calcium, 5 bins', ylabel='Count');\n",
    "\n",
    "ax[1].hist(df['calcium'], bins=15)\n",
    "ax[1].set(xlabel='Calcium, 15 bins', ylabel='Count');\n",
    "fig.suptitle('Histograms with Different Binnings', fontsize=16);\n",
    "fig.tight_layout()\n"
   ]
  },
  {
   "cell_type": "markdown",
   "id": "ef211e3a",
   "metadata": {},
   "source": [
    "**Colours**\n",
    "\n",
    "By default `matplotlib` generates all plots in blue. To change the colour of the plot, simply use the `color` keyword followed by the name of the colour when the plot method (e.g. `boxplot`) is called. A list of all colour names in `matplotlib` are listed in the [documentation](https://matplotlib.org/stable/gallery/color/named_colors.html)."
   ]
  },
  {
   "cell_type": "code",
   "execution_count": 92,
   "id": "9124dd43",
   "metadata": {},
   "outputs": [
    {
     "data": {
      "image/png": "[encoded data removed]",
      "text/plain": [
       "<Figure size 432x288 with 2 Axes>"
      ]
     },
     "metadata": {
      "needs_background": "light"
     },
     "output_type": "display_data"
    }
   ],
   "source": [
    "fig, ax = subplots(ncols=2, nrows=1)\n",
    "\n",
    "ax[0].hist(df['calcium'], bins=5, color='darkblue')\n",
    "ax[0].set(xlabel='Calcium, 5 bins', ylabel='Count');\n",
    "\n",
    "ax[1].hist(df['calcium'], bins=15, color='maroon')\n",
    "ax[1].set(xlabel='Calcium, 15 bins', ylabel='Count');\n",
    "fig.suptitle('Histograms with Different Binnings', fontsize=16);\n",
    "fig.tight_layout()"
   ]
  },
  {
   "cell_type": "markdown",
   "id": "3d9f69db",
   "metadata": {},
   "source": [
    "[Towards Data Science](https://towardsdatascience.com/customizing-plots-with-python-matplotlib-bcf02691931f) and [Earth Data Science](https://www.earthdatascience.org/courses/scientists-guide-to-plotting-data-in-python/plot-with-matplotlib/introduction-to-matplotlib-plots/customize-plot-colors-labels-matplotlib/) have good tutorials on customising your plots.\n",
    "\n",
    "[WWW3 Schools](https://www.w3schools.com/python/matplotlib_intro.asp) has a set of tutorials for the different plots you can generate using `matplotlib`."
   ]
  },
  {
   "cell_type": "markdown",
   "id": "a046ed15",
   "metadata": {},
   "source": [
    "**Combining plots**\n",
    "\n",
    "We can combine multiple different plot types into a single figure. Below is an example of visually exploring the diabetes data set from the Python library `sklearn` (which was imported in the [Imports](#imports) section of this notebook."
   ]
  },
  {
   "cell_type": "code",
   "execution_count": 90,
   "id": "fe33fbad",
   "metadata": {},
   "outputs": [
    {
     "data": {
      "image/png": "[encoded data removed]",
      "text/plain": [
       "<Figure size 1512x720 with 6 Axes>"
      ]
     },
     "metadata": {
      "needs_background": "light"
     },
     "output_type": "display_data"
    }
   ],
   "source": [
    "# load diabetes dataset\n",
    "diabetes = sklearn.datasets.load_diabetes()\n",
    "\n",
    "diabetes_data = diabetes.data\n",
    "\n",
    "fig, ax = subplots(figsize=(21, 10), ncols=3, nrows=2)\n",
    "\n",
    "# Histograms\n",
    "ax[0,0].hist(diabetes_data[:,3], bins=20)\n",
    "ax[0,0].set_ylabel('Count', fontsize=20)\n",
    "\n",
    "ax[0,1].hist(diabetes_data[:,4], bins=20)\n",
    "ax[0,1].set_ylabel('Count', fontsize=20)\n",
    "\n",
    "ax[0,2].hist(diabetes_data[:,5], bins=20)\n",
    "ax[0,2].set_ylabel('Count', fontsize=20)\n",
    "\n",
    "# Scatter plots\n",
    "ax[1,0].scatter(diabetes_data[:,3], diabetes_data[:,4]);\n",
    "ax[1,0].set_xlabel('Column 3', fontsize=20)\n",
    "ax[1,0].set_ylabel('Column 4', fontsize=20)\n",
    "\n",
    "ax[1,1].scatter(diabetes_data[:,4], diabetes_data[:,5]);\n",
    "ax[1,1].set_xlabel('Column 4', fontsize=20)\n",
    "ax[1,1].set_ylabel('Column 5', fontsize=20)\n",
    "\n",
    "ax[1,2].scatter(diabetes_data[:,5], diabetes_data[:,3]);\n",
    "ax[1,2].set_xlabel('Column 5', fontsize=20)\n",
    "ax[1,2].set_ylabel('Column 3', fontsize=20);\n"
   ]
  },
  {
   "cell_type": "markdown",
   "id": "31f54ca5",
   "metadata": {},
   "source": [
    "Using `pandas` and `matplotlib` allows us to explore trends in our dataset. In the example above, when plotting the data against each other in pairs (lower row), data column 3 versus column 4 (left) and column 5 versus 3 (right) both show a fairly uniform circular distribution of points. This is what would be expected if the data in the two columns were independent of each other. \n",
    "\n",
    "In contrast, column 4 versus 5 (centre) shows an elliptic, pointed shape along the main diagonal. This shows that something particular goes on between these data sets. Specifically, it indicates that the two variables recorded in these columns (indices 4 and 5) are not independent of each other. They are more similar than would be expected for independent variables. "
   ]
  },
  {
   "cell_type": "markdown",
   "id": "7e6733e9",
   "metadata": {},
   "source": [
    "__Create the histogram of a column__\n",
    "\n",
    "Take the loan data and display the histogram of the loan amount that people asked for. (Loan amounts are divided by 1000, i.e. in k£ on the horizontal axis).  Use e.g. 20 bins. "
   ]
  },
  {
   "cell_type": "code",
   "execution_count": null,
   "id": "24bb4594",
   "metadata": {},
   "outputs": [],
   "source": []
  }
 ],
 "metadata": {
  "kernelspec": {
   "display_name": "Python 3",
   "language": "python",
   "name": "python3"
  },
  "language_info": {
   "codemirror_mode": {
    "name": "ipython",
    "version": 3
   },
   "file_extension": ".py",
   "mimetype": "text/x-python",
   "name": "python",
   "nbconvert_exporter": "python",
   "pygments_lexer": "ipython3",
   "version": "3.8.10"
  }
 },
 "nbformat": 4,
 "nbformat_minor": 5
}
